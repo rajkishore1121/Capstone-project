{
 "cells": [
  {
   "cell_type": "markdown",
   "id": "54f4372d",
   "metadata": {},
   "source": [
    "## Capstone Project C&A Club IIT Guwahati"
   ]
  },
  {
   "cell_type": "code",
   "execution_count": 149,
   "id": "09520160",
   "metadata": {},
   "outputs": [],
   "source": [
    "import pandas as pd\n",
    "import numpy as np\n",
    "import seaborn as sns\n",
    "import matplotlib.pyplot as plt\n",
    "%matplotlib inline\n",
    "import sklearn\n",
    "import IPython.display as ipd\n",
    "from IPython.display import Image\n",
    "import warnings\n",
    "warnings.filterwarnings('ignore')"
   ]
  },
  {
   "cell_type": "code",
   "execution_count": 148,
   "id": "97c3d039",
   "metadata": {},
   "outputs": [],
   "source": [
    "import datetime"
   ]
  },
  {
   "cell_type": "code",
   "execution_count": 150,
   "id": "c3b9e5a7",
   "metadata": {},
   "outputs": [
    {
     "data": {
      "text/html": [
       "<div>\n",
       "<style scoped>\n",
       "    .dataframe tbody tr th:only-of-type {\n",
       "        vertical-align: middle;\n",
       "    }\n",
       "\n",
       "    .dataframe tbody tr th {\n",
       "        vertical-align: top;\n",
       "    }\n",
       "\n",
       "    .dataframe thead th {\n",
       "        text-align: right;\n",
       "    }\n",
       "</style>\n",
       "<table border=\"1\" class=\"dataframe\">\n",
       "  <thead>\n",
       "    <tr style=\"text-align: right;\">\n",
       "      <th></th>\n",
       "      <th>date</th>\n",
       "      <th>campaign</th>\n",
       "      <th>adgroup</th>\n",
       "      <th>ad</th>\n",
       "      <th>impressions</th>\n",
       "      <th>clicks</th>\n",
       "      <th>cost</th>\n",
       "      <th>conversions</th>\n",
       "      <th>revenue</th>\n",
       "    </tr>\n",
       "  </thead>\n",
       "  <tbody>\n",
       "    <tr>\n",
       "      <th>0</th>\n",
       "      <td>01-08-2020</td>\n",
       "      <td>campaign 1</td>\n",
       "      <td>adgroup 1</td>\n",
       "      <td>ad 1</td>\n",
       "      <td>24</td>\n",
       "      <td>6</td>\n",
       "      <td>0.08</td>\n",
       "      <td>0</td>\n",
       "      <td>0.00</td>\n",
       "    </tr>\n",
       "    <tr>\n",
       "      <th>1</th>\n",
       "      <td>01-08-2020</td>\n",
       "      <td>campaign 1</td>\n",
       "      <td>adgroup 2</td>\n",
       "      <td>ad 1</td>\n",
       "      <td>1</td>\n",
       "      <td>0</td>\n",
       "      <td>0.00</td>\n",
       "      <td>0</td>\n",
       "      <td>0.00</td>\n",
       "    </tr>\n",
       "    <tr>\n",
       "      <th>2</th>\n",
       "      <td>01-08-2020</td>\n",
       "      <td>campaign 1</td>\n",
       "      <td>adgroup 3</td>\n",
       "      <td>ad 1</td>\n",
       "      <td>13</td>\n",
       "      <td>4</td>\n",
       "      <td>0.04</td>\n",
       "      <td>0</td>\n",
       "      <td>0.00</td>\n",
       "    </tr>\n",
       "    <tr>\n",
       "      <th>3</th>\n",
       "      <td>01-08-2020</td>\n",
       "      <td>campaign 1</td>\n",
       "      <td>adgroup 4</td>\n",
       "      <td>ad 1</td>\n",
       "      <td>5</td>\n",
       "      <td>4</td>\n",
       "      <td>0.08</td>\n",
       "      <td>0</td>\n",
       "      <td>0.00</td>\n",
       "    </tr>\n",
       "    <tr>\n",
       "      <th>4</th>\n",
       "      <td>01-08-2020</td>\n",
       "      <td>campaign 1</td>\n",
       "      <td>adgroup 1</td>\n",
       "      <td>ad 2</td>\n",
       "      <td>247</td>\n",
       "      <td>126</td>\n",
       "      <td>1.29</td>\n",
       "      <td>4</td>\n",
       "      <td>925.71</td>\n",
       "    </tr>\n",
       "  </tbody>\n",
       "</table>\n",
       "</div>"
      ],
      "text/plain": [
       "         date    campaign    adgroup    ad  impressions  clicks  cost  \\\n",
       "0  01-08-2020  campaign 1  adgroup 1  ad 1           24       6  0.08   \n",
       "1  01-08-2020  campaign 1  adgroup 2  ad 1            1       0  0.00   \n",
       "2  01-08-2020  campaign 1  adgroup 3  ad 1           13       4  0.04   \n",
       "3  01-08-2020  campaign 1  adgroup 4  ad 1            5       4  0.08   \n",
       "4  01-08-2020  campaign 1  adgroup 1  ad 2          247     126  1.29   \n",
       "\n",
       "   conversions  revenue  \n",
       "0            0     0.00  \n",
       "1            0     0.00  \n",
       "2            0     0.00  \n",
       "3            0     0.00  \n",
       "4            4   925.71  "
      ]
     },
     "execution_count": 150,
     "metadata": {},
     "output_type": "execute_result"
    }
   ],
   "source": [
    "df=pd.read_csv(\"Train_Data.csv\")\n",
    "df.head(5)"
   ]
  },
  {
   "cell_type": "code",
   "execution_count": 151,
   "id": "f30c3e63",
   "metadata": {},
   "outputs": [],
   "source": [
    "tdf=pd.read_csv(\"Test_Data.csv\")"
   ]
  },
  {
   "cell_type": "code",
   "execution_count": 152,
   "id": "3fec1a17",
   "metadata": {},
   "outputs": [
    {
     "data": {
      "text/html": [
       "<div>\n",
       "<style scoped>\n",
       "    .dataframe tbody tr th:only-of-type {\n",
       "        vertical-align: middle;\n",
       "    }\n",
       "\n",
       "    .dataframe tbody tr th {\n",
       "        vertical-align: top;\n",
       "    }\n",
       "\n",
       "    .dataframe thead th {\n",
       "        text-align: right;\n",
       "    }\n",
       "</style>\n",
       "<table border=\"1\" class=\"dataframe\">\n",
       "  <thead>\n",
       "    <tr style=\"text-align: right;\">\n",
       "      <th></th>\n",
       "      <th>date</th>\n",
       "      <th>campaign</th>\n",
       "      <th>adgroup</th>\n",
       "      <th>ad</th>\n",
       "      <th>cost</th>\n",
       "      <th>impressions</th>\n",
       "      <th>clicks</th>\n",
       "      <th>conversions</th>\n",
       "    </tr>\n",
       "  </thead>\n",
       "  <tbody>\n",
       "    <tr>\n",
       "      <th>0</th>\n",
       "      <td>01-03-2021</td>\n",
       "      <td>campaign 1</td>\n",
       "      <td>adgroup 1</td>\n",
       "      <td>ad 1</td>\n",
       "      <td>0.58</td>\n",
       "      <td>121</td>\n",
       "      <td>49</td>\n",
       "      <td>1</td>\n",
       "    </tr>\n",
       "    <tr>\n",
       "      <th>1</th>\n",
       "      <td>01-03-2021</td>\n",
       "      <td>campaign 1</td>\n",
       "      <td>adgroup 3</td>\n",
       "      <td>ad 1</td>\n",
       "      <td>0.17</td>\n",
       "      <td>22</td>\n",
       "      <td>12</td>\n",
       "      <td>0</td>\n",
       "    </tr>\n",
       "    <tr>\n",
       "      <th>2</th>\n",
       "      <td>01-03-2021</td>\n",
       "      <td>campaign 1</td>\n",
       "      <td>adgroup 4</td>\n",
       "      <td>ad 1</td>\n",
       "      <td>0.05</td>\n",
       "      <td>5</td>\n",
       "      <td>3</td>\n",
       "      <td>0</td>\n",
       "    </tr>\n",
       "    <tr>\n",
       "      <th>3</th>\n",
       "      <td>01-03-2021</td>\n",
       "      <td>campaign 1</td>\n",
       "      <td>adgroup 2</td>\n",
       "      <td>ad 1</td>\n",
       "      <td>0.01</td>\n",
       "      <td>2</td>\n",
       "      <td>1</td>\n",
       "      <td>0</td>\n",
       "    </tr>\n",
       "    <tr>\n",
       "      <th>4</th>\n",
       "      <td>01-03-2021</td>\n",
       "      <td>campaign 1</td>\n",
       "      <td>adgroup 2</td>\n",
       "      <td>ad 2</td>\n",
       "      <td>0.01</td>\n",
       "      <td>3</td>\n",
       "      <td>1</td>\n",
       "      <td>0</td>\n",
       "    </tr>\n",
       "  </tbody>\n",
       "</table>\n",
       "</div>"
      ],
      "text/plain": [
       "         date    campaign    adgroup    ad  cost  impressions  clicks  \\\n",
       "0  01-03-2021  campaign 1  adgroup 1  ad 1  0.58          121      49   \n",
       "1  01-03-2021  campaign 1  adgroup 3  ad 1  0.17           22      12   \n",
       "2  01-03-2021  campaign 1  adgroup 4  ad 1  0.05            5       3   \n",
       "3  01-03-2021  campaign 1  adgroup 2  ad 1  0.01            2       1   \n",
       "4  01-03-2021  campaign 1  adgroup 2  ad 2  0.01            3       1   \n",
       "\n",
       "   conversions  \n",
       "0            1  \n",
       "1            0  \n",
       "2            0  \n",
       "3            0  \n",
       "4            0  "
      ]
     },
     "execution_count": 152,
     "metadata": {},
     "output_type": "execute_result"
    }
   ],
   "source": [
    "tdf.head()"
   ]
  },
  {
   "cell_type": "code",
   "execution_count": 153,
   "id": "7b71c887",
   "metadata": {},
   "outputs": [
    {
     "data": {
      "text/plain": [
       "array(['adgroup 1', 'adgroup 2', 'adgroup 3', 'adgroup 4'], dtype=object)"
      ]
     },
     "execution_count": 153,
     "metadata": {},
     "output_type": "execute_result"
    }
   ],
   "source": [
    "df.adgroup.unique()"
   ]
  },
  {
   "cell_type": "code",
   "execution_count": 154,
   "id": "02dbcabe",
   "metadata": {},
   "outputs": [
    {
     "data": {
      "text/plain": [
       "array(['ad 1', 'ad 2', 'ad 3', 'ad 4', 'ad 5', 'ad 6', 'ad 7', 'ad 8',\n",
       "       'ad 9', 'ad 10', 'ad 11', 'ad 12', 'ad 13', 'ad 14', 'ad 15',\n",
       "       'ad 16', 'ad 17', 'ad 18', 'ad 19', 'ad 20', 'ad 21', 'ad 22',\n",
       "       'ad 23', 'ad 24', 'ad 25', 'ad 26', 'ad 27', 'ad 28', 'ad 29',\n",
       "       'ad 30', 'ad 31', 'ad 32', 'ad 33', 'ad 34', 'ad 35', 'ad 36',\n",
       "       'ad 37', 'ad 38', 'ad 39', 'ad 40', 'ad 41', 'ad 42', 'ad 43',\n",
       "       'ad 44', 'ad 45', 'ad 46', 'ad 47', 'ad 48', 'ad 49', 'ad 50',\n",
       "       'ad 51', 'ad 52', 'ad 53', 'ad 54', 'ad 55', 'ad 56', 'ad 57',\n",
       "       'ad 58', 'ad 59', 'ad 60', 'ad 61', 'ad 62', 'ad 63', 'ad 64',\n",
       "       'ad 65', 'ad 66', 'ad 67', 'ad 68', 'ad 69', 'ad 70'], dtype=object)"
      ]
     },
     "execution_count": 154,
     "metadata": {},
     "output_type": "execute_result"
    }
   ],
   "source": [
    "ada=df.ad.unique()\n",
    "ada"
   ]
  },
  {
   "cell_type": "code",
   "execution_count": 155,
   "id": "26dcf10d",
   "metadata": {},
   "outputs": [
    {
     "data": {
      "text/plain": [
       "array(['ad 1', 'ad 2', 'ad 3', 'ad 4', 'ad 5', 'ad 6', 'ad 7', 'ad 8',\n",
       "       'ad 10', 'ad 71', 'ad 72', 'ad 73', 'ad 74', 'ad 75', 'ad 56',\n",
       "       'ad 55'], dtype=object)"
      ]
     },
     "execution_count": 155,
     "metadata": {},
     "output_type": "execute_result"
    }
   ],
   "source": [
    "adt=tdf.ad.unique()\n",
    "adt"
   ]
  },
  {
   "cell_type": "code",
   "execution_count": 156,
   "id": "cd2a6ec3",
   "metadata": {},
   "outputs": [
    {
     "data": {
      "text/plain": [
       "['ad 31',\n",
       " 'ad 13',\n",
       " 'ad 68',\n",
       " 'ad 54',\n",
       " 'ad 58',\n",
       " 'ad 62',\n",
       " 'ad 30',\n",
       " 'ad 21',\n",
       " 'ad 19',\n",
       " 'ad 45',\n",
       " 'ad 60',\n",
       " 'ad 26',\n",
       " 'ad 38',\n",
       " 'ad 27',\n",
       " 'ad 18',\n",
       " 'ad 35',\n",
       " 'ad 44',\n",
       " 'ad 59',\n",
       " 'ad 24',\n",
       " 'ad 47',\n",
       " 'ad 29',\n",
       " 'ad 43',\n",
       " 'ad 66',\n",
       " 'ad 25',\n",
       " 'ad 41',\n",
       " 'ad 69',\n",
       " 'ad 48',\n",
       " 'ad 17',\n",
       " 'ad 57',\n",
       " 'ad 32',\n",
       " 'ad 64',\n",
       " 'ad 15',\n",
       " 'ad 50',\n",
       " 'ad 51',\n",
       " 'ad 14',\n",
       " 'ad 36',\n",
       " 'ad 46',\n",
       " 'ad 70',\n",
       " 'ad 33',\n",
       " 'ad 20',\n",
       " 'ad 42',\n",
       " 'ad 65',\n",
       " 'ad 28',\n",
       " 'ad 16',\n",
       " 'ad 67',\n",
       " 'ad 63',\n",
       " 'ad 23',\n",
       " 'ad 9',\n",
       " 'ad 22',\n",
       " 'ad 37',\n",
       " 'ad 39',\n",
       " 'ad 52',\n",
       " 'ad 11',\n",
       " 'ad 61',\n",
       " 'ad 40',\n",
       " 'ad 34',\n",
       " 'ad 49',\n",
       " 'ad 53',\n",
       " 'ad 12']"
      ]
     },
     "execution_count": 156,
     "metadata": {},
     "output_type": "execute_result"
    }
   ],
   "source": [
    "adsr= list(set(ada)-set(adt))\n",
    "adsr"
   ]
  },
  {
   "cell_type": "code",
   "execution_count": 157,
   "id": "c47a4b8c",
   "metadata": {},
   "outputs": [
    {
     "data": {
      "text/plain": [
       "array(['adgroup 1', 'adgroup 3', 'adgroup 4', 'adgroup 2'], dtype=object)"
      ]
     },
     "execution_count": 157,
     "metadata": {},
     "output_type": "execute_result"
    }
   ],
   "source": [
    "tdf.adgroup.unique()"
   ]
  },
  {
   "cell_type": "code",
   "execution_count": 158,
   "id": "309c0288",
   "metadata": {},
   "outputs": [
    {
     "data": {
      "text/plain": [
       "(4571, 9)"
      ]
     },
     "execution_count": 158,
     "metadata": {},
     "output_type": "execute_result"
    }
   ],
   "source": [
    "df.shape"
   ]
  },
  {
   "cell_type": "code",
   "execution_count": 159,
   "id": "5cb27d78",
   "metadata": {},
   "outputs": [
    {
     "data": {
      "text/plain": [
       "(318, 8)"
      ]
     },
     "execution_count": 159,
     "metadata": {},
     "output_type": "execute_result"
    }
   ],
   "source": [
    "tdf.shape"
   ]
  },
  {
   "cell_type": "code",
   "execution_count": 160,
   "id": "25872cae",
   "metadata": {},
   "outputs": [
    {
     "name": "stdout",
     "output_type": "stream",
     "text": [
      "<class 'pandas.core.frame.DataFrame'>\n",
      "RangeIndex: 4571 entries, 0 to 4570\n",
      "Data columns (total 9 columns):\n",
      " #   Column       Non-Null Count  Dtype  \n",
      "---  ------       --------------  -----  \n",
      " 0   date         4571 non-null   object \n",
      " 1   campaign     4571 non-null   object \n",
      " 2   adgroup      4571 non-null   object \n",
      " 3   ad           4571 non-null   object \n",
      " 4   impressions  4571 non-null   int64  \n",
      " 5   clicks       4571 non-null   int64  \n",
      " 6   cost         4571 non-null   float64\n",
      " 7   conversions  4571 non-null   int64  \n",
      " 8   revenue      4571 non-null   float64\n",
      "dtypes: float64(2), int64(3), object(4)\n",
      "memory usage: 321.5+ KB\n"
     ]
    }
   ],
   "source": [
    "df.info()"
   ]
  },
  {
   "cell_type": "code",
   "execution_count": 161,
   "id": "ae29ab69",
   "metadata": {},
   "outputs": [
    {
     "name": "stdout",
     "output_type": "stream",
     "text": [
      "<class 'pandas.core.frame.DataFrame'>\n",
      "RangeIndex: 318 entries, 0 to 317\n",
      "Data columns (total 8 columns):\n",
      " #   Column       Non-Null Count  Dtype  \n",
      "---  ------       --------------  -----  \n",
      " 0   date         318 non-null    object \n",
      " 1   campaign     318 non-null    object \n",
      " 2   adgroup      318 non-null    object \n",
      " 3   ad           318 non-null    object \n",
      " 4   cost         318 non-null    float64\n",
      " 5   impressions  318 non-null    int64  \n",
      " 6   clicks       318 non-null    int64  \n",
      " 7   conversions  318 non-null    int64  \n",
      "dtypes: float64(1), int64(3), object(4)\n",
      "memory usage: 20.0+ KB\n"
     ]
    }
   ],
   "source": [
    "tdf.info()"
   ]
  },
  {
   "cell_type": "code",
   "execution_count": 162,
   "id": "beedeb82",
   "metadata": {},
   "outputs": [
    {
     "data": {
      "text/html": [
       "<div>\n",
       "<style scoped>\n",
       "    .dataframe tbody tr th:only-of-type {\n",
       "        vertical-align: middle;\n",
       "    }\n",
       "\n",
       "    .dataframe tbody tr th {\n",
       "        vertical-align: top;\n",
       "    }\n",
       "\n",
       "    .dataframe thead th {\n",
       "        text-align: right;\n",
       "    }\n",
       "</style>\n",
       "<table border=\"1\" class=\"dataframe\">\n",
       "  <thead>\n",
       "    <tr style=\"text-align: right;\">\n",
       "      <th></th>\n",
       "      <th>impressions</th>\n",
       "      <th>clicks</th>\n",
       "      <th>cost</th>\n",
       "      <th>conversions</th>\n",
       "      <th>revenue</th>\n",
       "    </tr>\n",
       "  </thead>\n",
       "  <tbody>\n",
       "    <tr>\n",
       "      <th>count</th>\n",
       "      <td>4571.000000</td>\n",
       "      <td>4571.000000</td>\n",
       "      <td>4571.000000</td>\n",
       "      <td>4571.000000</td>\n",
       "      <td>4571.000000</td>\n",
       "    </tr>\n",
       "    <tr>\n",
       "      <th>mean</th>\n",
       "      <td>92.635747</td>\n",
       "      <td>43.340844</td>\n",
       "      <td>2.800834</td>\n",
       "      <td>1.339094</td>\n",
       "      <td>231.865340</td>\n",
       "    </tr>\n",
       "    <tr>\n",
       "      <th>std</th>\n",
       "      <td>198.349737</td>\n",
       "      <td>100.164913</td>\n",
       "      <td>14.361618</td>\n",
       "      <td>5.223922</td>\n",
       "      <td>1091.742763</td>\n",
       "    </tr>\n",
       "    <tr>\n",
       "      <th>min</th>\n",
       "      <td>1.000000</td>\n",
       "      <td>0.000000</td>\n",
       "      <td>0.000000</td>\n",
       "      <td>0.000000</td>\n",
       "      <td>0.000000</td>\n",
       "    </tr>\n",
       "    <tr>\n",
       "      <th>25%</th>\n",
       "      <td>6.000000</td>\n",
       "      <td>2.000000</td>\n",
       "      <td>0.040000</td>\n",
       "      <td>0.000000</td>\n",
       "      <td>0.000000</td>\n",
       "    </tr>\n",
       "    <tr>\n",
       "      <th>50%</th>\n",
       "      <td>16.000000</td>\n",
       "      <td>7.000000</td>\n",
       "      <td>0.210000</td>\n",
       "      <td>0.000000</td>\n",
       "      <td>0.000000</td>\n",
       "    </tr>\n",
       "    <tr>\n",
       "      <th>75%</th>\n",
       "      <td>84.000000</td>\n",
       "      <td>38.000000</td>\n",
       "      <td>1.350000</td>\n",
       "      <td>1.000000</td>\n",
       "      <td>92.600000</td>\n",
       "    </tr>\n",
       "    <tr>\n",
       "      <th>max</th>\n",
       "      <td>3239.000000</td>\n",
       "      <td>1771.000000</td>\n",
       "      <td>531.250000</td>\n",
       "      <td>94.000000</td>\n",
       "      <td>20515.410000</td>\n",
       "    </tr>\n",
       "  </tbody>\n",
       "</table>\n",
       "</div>"
      ],
      "text/plain": [
       "       impressions       clicks         cost  conversions       revenue\n",
       "count  4571.000000  4571.000000  4571.000000  4571.000000   4571.000000\n",
       "mean     92.635747    43.340844     2.800834     1.339094    231.865340\n",
       "std     198.349737   100.164913    14.361618     5.223922   1091.742763\n",
       "min       1.000000     0.000000     0.000000     0.000000      0.000000\n",
       "25%       6.000000     2.000000     0.040000     0.000000      0.000000\n",
       "50%      16.000000     7.000000     0.210000     0.000000      0.000000\n",
       "75%      84.000000    38.000000     1.350000     1.000000     92.600000\n",
       "max    3239.000000  1771.000000   531.250000    94.000000  20515.410000"
      ]
     },
     "execution_count": 162,
     "metadata": {},
     "output_type": "execute_result"
    }
   ],
   "source": [
    "df.describe()"
   ]
  },
  {
   "cell_type": "code",
   "execution_count": 163,
   "id": "dc91b585",
   "metadata": {},
   "outputs": [
    {
     "data": {
      "text/html": [
       "<div>\n",
       "<style scoped>\n",
       "    .dataframe tbody tr th:only-of-type {\n",
       "        vertical-align: middle;\n",
       "    }\n",
       "\n",
       "    .dataframe tbody tr th {\n",
       "        vertical-align: top;\n",
       "    }\n",
       "\n",
       "    .dataframe thead th {\n",
       "        text-align: right;\n",
       "    }\n",
       "</style>\n",
       "<table border=\"1\" class=\"dataframe\">\n",
       "  <thead>\n",
       "    <tr style=\"text-align: right;\">\n",
       "      <th></th>\n",
       "      <th>cost</th>\n",
       "      <th>impressions</th>\n",
       "      <th>clicks</th>\n",
       "      <th>conversions</th>\n",
       "    </tr>\n",
       "  </thead>\n",
       "  <tbody>\n",
       "    <tr>\n",
       "      <th>count</th>\n",
       "      <td>318.000000</td>\n",
       "      <td>318.000000</td>\n",
       "      <td>318.000000</td>\n",
       "      <td>318.000000</td>\n",
       "    </tr>\n",
       "    <tr>\n",
       "      <th>mean</th>\n",
       "      <td>0.381352</td>\n",
       "      <td>67.144654</td>\n",
       "      <td>29.720126</td>\n",
       "      <td>0.805031</td>\n",
       "    </tr>\n",
       "    <tr>\n",
       "      <th>std</th>\n",
       "      <td>0.591480</td>\n",
       "      <td>101.078870</td>\n",
       "      <td>45.200014</td>\n",
       "      <td>1.802480</td>\n",
       "    </tr>\n",
       "    <tr>\n",
       "      <th>min</th>\n",
       "      <td>0.000000</td>\n",
       "      <td>1.000000</td>\n",
       "      <td>0.000000</td>\n",
       "      <td>0.000000</td>\n",
       "    </tr>\n",
       "    <tr>\n",
       "      <th>25%</th>\n",
       "      <td>0.020000</td>\n",
       "      <td>4.000000</td>\n",
       "      <td>2.000000</td>\n",
       "      <td>0.000000</td>\n",
       "    </tr>\n",
       "    <tr>\n",
       "      <th>50%</th>\n",
       "      <td>0.105000</td>\n",
       "      <td>20.000000</td>\n",
       "      <td>9.000000</td>\n",
       "      <td>0.000000</td>\n",
       "    </tr>\n",
       "    <tr>\n",
       "      <th>75%</th>\n",
       "      <td>0.490000</td>\n",
       "      <td>103.000000</td>\n",
       "      <td>40.750000</td>\n",
       "      <td>1.000000</td>\n",
       "    </tr>\n",
       "    <tr>\n",
       "      <th>max</th>\n",
       "      <td>3.530000</td>\n",
       "      <td>589.000000</td>\n",
       "      <td>276.000000</td>\n",
       "      <td>15.000000</td>\n",
       "    </tr>\n",
       "  </tbody>\n",
       "</table>\n",
       "</div>"
      ],
      "text/plain": [
       "             cost  impressions      clicks  conversions\n",
       "count  318.000000   318.000000  318.000000   318.000000\n",
       "mean     0.381352    67.144654   29.720126     0.805031\n",
       "std      0.591480   101.078870   45.200014     1.802480\n",
       "min      0.000000     1.000000    0.000000     0.000000\n",
       "25%      0.020000     4.000000    2.000000     0.000000\n",
       "50%      0.105000    20.000000    9.000000     0.000000\n",
       "75%      0.490000   103.000000   40.750000     1.000000\n",
       "max      3.530000   589.000000  276.000000    15.000000"
      ]
     },
     "execution_count": 163,
     "metadata": {},
     "output_type": "execute_result"
    }
   ],
   "source": [
    "tdf.describe()"
   ]
  },
  {
   "cell_type": "code",
   "execution_count": 164,
   "id": "fb0169cd",
   "metadata": {
    "scrolled": true
   },
   "outputs": [
    {
     "data": {
      "text/plain": [
       "30-10-2020    35\n",
       "29-10-2020    34\n",
       "22-12-2020    34\n",
       "24-12-2020    33\n",
       "23-12-2020    32\n",
       "              ..\n",
       "13-09-2020    10\n",
       "30-09-2020    10\n",
       "31-08-2020     8\n",
       "28-08-2020     8\n",
       "29-09-2020     8\n",
       "Name: date, Length: 212, dtype: int64"
      ]
     },
     "execution_count": 164,
     "metadata": {},
     "output_type": "execute_result"
    }
   ],
   "source": [
    "df.date.value_counts()"
   ]
  },
  {
   "cell_type": "code",
   "execution_count": 165,
   "id": "24a581f3",
   "metadata": {
    "scrolled": true
   },
   "outputs": [
    {
     "data": {
      "text/html": [
       "<div>\n",
       "<style scoped>\n",
       "    .dataframe tbody tr th:only-of-type {\n",
       "        vertical-align: middle;\n",
       "    }\n",
       "\n",
       "    .dataframe tbody tr th {\n",
       "        vertical-align: top;\n",
       "    }\n",
       "\n",
       "    .dataframe thead th {\n",
       "        text-align: right;\n",
       "    }\n",
       "</style>\n",
       "<table border=\"1\" class=\"dataframe\">\n",
       "  <thead>\n",
       "    <tr style=\"text-align: right;\">\n",
       "      <th></th>\n",
       "      <th>date</th>\n",
       "      <th>campaign</th>\n",
       "      <th>adgroup</th>\n",
       "      <th>ad</th>\n",
       "      <th>impressions</th>\n",
       "      <th>clicks</th>\n",
       "      <th>cost</th>\n",
       "      <th>conversions</th>\n",
       "      <th>revenue</th>\n",
       "    </tr>\n",
       "  </thead>\n",
       "  <tbody>\n",
       "  </tbody>\n",
       "</table>\n",
       "</div>"
      ],
      "text/plain": [
       "Empty DataFrame\n",
       "Columns: [date, campaign, adgroup, ad, impressions, clicks, cost, conversions, revenue]\n",
       "Index: []"
      ]
     },
     "execution_count": 165,
     "metadata": {},
     "output_type": "execute_result"
    }
   ],
   "source": [
    "df[df.isnull().any(axis=1)]\n"
   ]
  },
  {
   "cell_type": "code",
   "execution_count": 18,
   "id": "c13f77a3",
   "metadata": {},
   "outputs": [],
   "source": [
    "#df['date']=df['date'].str.replace(\"-\",\"\").astype(int)"
   ]
  },
  {
   "cell_type": "code",
   "execution_count": 19,
   "id": "45a29949",
   "metadata": {},
   "outputs": [],
   "source": [
    "#tdf['date']=tdf['date'].str.replace(\"-\",\"\").astype(int)"
   ]
  },
  {
   "cell_type": "code",
   "execution_count": 168,
   "id": "ac5dd58f",
   "metadata": {},
   "outputs": [],
   "source": [
    "df[\"date\"] = pd.to_datetime(df[\"date\"])\n",
    "df[\"year\"] = df[\"date\"].apply(lambda x:x.year)\n",
    "df[\"month\"] = df[\"date\"].apply(lambda x:x.month)\n",
    "df[\"day\"] = df[\"date\"].apply(lambda x:x.day)"
   ]
  },
  {
   "cell_type": "code",
   "execution_count": 169,
   "id": "d75cdcf5",
   "metadata": {},
   "outputs": [],
   "source": [
    "tdf[\"date\"] = pd.to_datetime(tdf[\"date\"])\n",
    "tdf[\"year\"] = tdf[\"date\"].apply(lambda x:x.year)\n",
    "tdf[\"month\"] = tdf[\"date\"].apply(lambda x:x.month)\n",
    "tdf[\"day\"] = tdf[\"date\"].apply(lambda x:x.day)"
   ]
  },
  {
   "cell_type": "code",
   "execution_count": null,
   "id": "c38ec985",
   "metadata": {},
   "outputs": [],
   "source": []
  },
  {
   "cell_type": "code",
   "execution_count": 172,
   "id": "c0ca952f",
   "metadata": {},
   "outputs": [],
   "source": [
    "df.drop(columns='date', inplace= True)"
   ]
  },
  {
   "cell_type": "code",
   "execution_count": 174,
   "id": "d4233ef4",
   "metadata": {},
   "outputs": [
    {
     "data": {
      "text/html": [
       "<div>\n",
       "<style scoped>\n",
       "    .dataframe tbody tr th:only-of-type {\n",
       "        vertical-align: middle;\n",
       "    }\n",
       "\n",
       "    .dataframe tbody tr th {\n",
       "        vertical-align: top;\n",
       "    }\n",
       "\n",
       "    .dataframe thead th {\n",
       "        text-align: right;\n",
       "    }\n",
       "</style>\n",
       "<table border=\"1\" class=\"dataframe\">\n",
       "  <thead>\n",
       "    <tr style=\"text-align: right;\">\n",
       "      <th></th>\n",
       "      <th>campaign</th>\n",
       "      <th>adgroup</th>\n",
       "      <th>ad</th>\n",
       "      <th>impressions</th>\n",
       "      <th>clicks</th>\n",
       "      <th>cost</th>\n",
       "      <th>conversions</th>\n",
       "      <th>revenue</th>\n",
       "      <th>year</th>\n",
       "      <th>month</th>\n",
       "      <th>day</th>\n",
       "    </tr>\n",
       "  </thead>\n",
       "  <tbody>\n",
       "    <tr>\n",
       "      <th>0</th>\n",
       "      <td>campaign 1</td>\n",
       "      <td>adgroup 1</td>\n",
       "      <td>ad 1</td>\n",
       "      <td>24</td>\n",
       "      <td>6</td>\n",
       "      <td>0.08</td>\n",
       "      <td>0</td>\n",
       "      <td>0.00</td>\n",
       "      <td>2020</td>\n",
       "      <td>1</td>\n",
       "      <td>8</td>\n",
       "    </tr>\n",
       "    <tr>\n",
       "      <th>1</th>\n",
       "      <td>campaign 1</td>\n",
       "      <td>adgroup 2</td>\n",
       "      <td>ad 1</td>\n",
       "      <td>1</td>\n",
       "      <td>0</td>\n",
       "      <td>0.00</td>\n",
       "      <td>0</td>\n",
       "      <td>0.00</td>\n",
       "      <td>2020</td>\n",
       "      <td>1</td>\n",
       "      <td>8</td>\n",
       "    </tr>\n",
       "    <tr>\n",
       "      <th>2</th>\n",
       "      <td>campaign 1</td>\n",
       "      <td>adgroup 3</td>\n",
       "      <td>ad 1</td>\n",
       "      <td>13</td>\n",
       "      <td>4</td>\n",
       "      <td>0.04</td>\n",
       "      <td>0</td>\n",
       "      <td>0.00</td>\n",
       "      <td>2020</td>\n",
       "      <td>1</td>\n",
       "      <td>8</td>\n",
       "    </tr>\n",
       "    <tr>\n",
       "      <th>3</th>\n",
       "      <td>campaign 1</td>\n",
       "      <td>adgroup 4</td>\n",
       "      <td>ad 1</td>\n",
       "      <td>5</td>\n",
       "      <td>4</td>\n",
       "      <td>0.08</td>\n",
       "      <td>0</td>\n",
       "      <td>0.00</td>\n",
       "      <td>2020</td>\n",
       "      <td>1</td>\n",
       "      <td>8</td>\n",
       "    </tr>\n",
       "    <tr>\n",
       "      <th>4</th>\n",
       "      <td>campaign 1</td>\n",
       "      <td>adgroup 1</td>\n",
       "      <td>ad 2</td>\n",
       "      <td>247</td>\n",
       "      <td>126</td>\n",
       "      <td>1.29</td>\n",
       "      <td>4</td>\n",
       "      <td>925.71</td>\n",
       "      <td>2020</td>\n",
       "      <td>1</td>\n",
       "      <td>8</td>\n",
       "    </tr>\n",
       "  </tbody>\n",
       "</table>\n",
       "</div>"
      ],
      "text/plain": [
       "     campaign    adgroup    ad  impressions  clicks  cost  conversions  \\\n",
       "0  campaign 1  adgroup 1  ad 1           24       6  0.08            0   \n",
       "1  campaign 1  adgroup 2  ad 1            1       0  0.00            0   \n",
       "2  campaign 1  adgroup 3  ad 1           13       4  0.04            0   \n",
       "3  campaign 1  adgroup 4  ad 1            5       4  0.08            0   \n",
       "4  campaign 1  adgroup 1  ad 2          247     126  1.29            4   \n",
       "\n",
       "   revenue  year  month  day  \n",
       "0     0.00  2020      1    8  \n",
       "1     0.00  2020      1    8  \n",
       "2     0.00  2020      1    8  \n",
       "3     0.00  2020      1    8  \n",
       "4   925.71  2020      1    8  "
      ]
     },
     "execution_count": 174,
     "metadata": {},
     "output_type": "execute_result"
    }
   ],
   "source": [
    "df.head()"
   ]
  },
  {
   "cell_type": "code",
   "execution_count": 176,
   "id": "22f062c6",
   "metadata": {},
   "outputs": [],
   "source": [
    "tdf.drop(columns='date', inplace= True)"
   ]
  },
  {
   "cell_type": "code",
   "execution_count": 177,
   "id": "defebe74",
   "metadata": {},
   "outputs": [
    {
     "data": {
      "text/html": [
       "<div>\n",
       "<style scoped>\n",
       "    .dataframe tbody tr th:only-of-type {\n",
       "        vertical-align: middle;\n",
       "    }\n",
       "\n",
       "    .dataframe tbody tr th {\n",
       "        vertical-align: top;\n",
       "    }\n",
       "\n",
       "    .dataframe thead th {\n",
       "        text-align: right;\n",
       "    }\n",
       "</style>\n",
       "<table border=\"1\" class=\"dataframe\">\n",
       "  <thead>\n",
       "    <tr style=\"text-align: right;\">\n",
       "      <th></th>\n",
       "      <th>campaign</th>\n",
       "      <th>adgroup</th>\n",
       "      <th>ad</th>\n",
       "      <th>cost</th>\n",
       "      <th>impressions</th>\n",
       "      <th>clicks</th>\n",
       "      <th>conversions</th>\n",
       "      <th>year</th>\n",
       "      <th>month</th>\n",
       "      <th>day</th>\n",
       "    </tr>\n",
       "  </thead>\n",
       "  <tbody>\n",
       "    <tr>\n",
       "      <th>0</th>\n",
       "      <td>campaign 1</td>\n",
       "      <td>adgroup 1</td>\n",
       "      <td>ad 1</td>\n",
       "      <td>0.58</td>\n",
       "      <td>121</td>\n",
       "      <td>49</td>\n",
       "      <td>1</td>\n",
       "      <td>2021</td>\n",
       "      <td>1</td>\n",
       "      <td>3</td>\n",
       "    </tr>\n",
       "    <tr>\n",
       "      <th>1</th>\n",
       "      <td>campaign 1</td>\n",
       "      <td>adgroup 3</td>\n",
       "      <td>ad 1</td>\n",
       "      <td>0.17</td>\n",
       "      <td>22</td>\n",
       "      <td>12</td>\n",
       "      <td>0</td>\n",
       "      <td>2021</td>\n",
       "      <td>1</td>\n",
       "      <td>3</td>\n",
       "    </tr>\n",
       "    <tr>\n",
       "      <th>2</th>\n",
       "      <td>campaign 1</td>\n",
       "      <td>adgroup 4</td>\n",
       "      <td>ad 1</td>\n",
       "      <td>0.05</td>\n",
       "      <td>5</td>\n",
       "      <td>3</td>\n",
       "      <td>0</td>\n",
       "      <td>2021</td>\n",
       "      <td>1</td>\n",
       "      <td>3</td>\n",
       "    </tr>\n",
       "    <tr>\n",
       "      <th>3</th>\n",
       "      <td>campaign 1</td>\n",
       "      <td>adgroup 2</td>\n",
       "      <td>ad 1</td>\n",
       "      <td>0.01</td>\n",
       "      <td>2</td>\n",
       "      <td>1</td>\n",
       "      <td>0</td>\n",
       "      <td>2021</td>\n",
       "      <td>1</td>\n",
       "      <td>3</td>\n",
       "    </tr>\n",
       "    <tr>\n",
       "      <th>4</th>\n",
       "      <td>campaign 1</td>\n",
       "      <td>adgroup 2</td>\n",
       "      <td>ad 2</td>\n",
       "      <td>0.01</td>\n",
       "      <td>3</td>\n",
       "      <td>1</td>\n",
       "      <td>0</td>\n",
       "      <td>2021</td>\n",
       "      <td>1</td>\n",
       "      <td>3</td>\n",
       "    </tr>\n",
       "  </tbody>\n",
       "</table>\n",
       "</div>"
      ],
      "text/plain": [
       "     campaign    adgroup    ad  cost  impressions  clicks  conversions  year  \\\n",
       "0  campaign 1  adgroup 1  ad 1  0.58          121      49            1  2021   \n",
       "1  campaign 1  adgroup 3  ad 1  0.17           22      12            0  2021   \n",
       "2  campaign 1  adgroup 4  ad 1  0.05            5       3            0  2021   \n",
       "3  campaign 1  adgroup 2  ad 1  0.01            2       1            0  2021   \n",
       "4  campaign 1  adgroup 2  ad 2  0.01            3       1            0  2021   \n",
       "\n",
       "   month  day  \n",
       "0      1    3  \n",
       "1      1    3  \n",
       "2      1    3  \n",
       "3      1    3  \n",
       "4      1    3  "
      ]
     },
     "execution_count": 177,
     "metadata": {},
     "output_type": "execute_result"
    }
   ],
   "source": [
    "tdf.head()"
   ]
  },
  {
   "cell_type": "code",
   "execution_count": 24,
   "id": "6bae9754",
   "metadata": {},
   "outputs": [],
   "source": [
    "plt.rc('xtick', labelsize=15)\n",
    "plt.rc('ytick', labelsize=15)\n",
    "plt.rc('axes', labelsize=15)"
   ]
  },
  {
   "cell_type": "code",
   "execution_count": 25,
   "id": "ecbed776",
   "metadata": {},
   "outputs": [
    {
     "data": {
      "text/plain": [
       "\"sns.set_style('darkgrid')\\nsns.pairplot(df)\\nplt.tight_layout()\""
      ]
     },
     "execution_count": 25,
     "metadata": {},
     "output_type": "execute_result"
    }
   ],
   "source": [
    "'''sns.set_style('darkgrid')\n",
    "sns.pairplot(df)\n",
    "plt.tight_layout()'''"
   ]
  },
  {
   "cell_type": "code",
   "execution_count": 26,
   "id": "ed867665",
   "metadata": {},
   "outputs": [],
   "source": [
    "#sns.pairplot(df, diag_kind='kde')"
   ]
  },
  {
   "cell_type": "code",
   "execution_count": 27,
   "id": "8b53c219",
   "metadata": {
    "scrolled": true
   },
   "outputs": [],
   "source": [
    "#sns.pairplot(df, kind='reg')"
   ]
  },
  {
   "cell_type": "code",
   "execution_count": 57,
   "id": "ad2adcd0",
   "metadata": {},
   "outputs": [
    {
     "data": {
      "image/png": "[encoded data removed]",
      "text/plain": [
       "<Figure size 432x288 with 1 Axes>"
      ]
     },
     "metadata": {
      "needs_background": "light"
     },
     "output_type": "display_data"
    }
   ],
   "source": [
    "sns.histplot(x=df['revenue'], kde=True);"
   ]
  },
  {
   "cell_type": "code",
   "execution_count": 56,
   "id": "77c17a39",
   "metadata": {},
   "outputs": [
    {
     "data": {
      "image/png": "[encoded data removed]",
      "text/plain": [
       "<Figure size 432x288 with 1 Axes>"
      ]
     },
     "metadata": {
      "needs_background": "light"
     },
     "output_type": "display_data"
    },
    {
     "ename": "ValueError",
     "evalue": "autodetected range of [-inf, 9.928931590053136] is not finite",
     "output_type": "error",
     "traceback": [
      "\u001b[1;31m---------------------------------------------------------------------------\u001b[0m",
      "\u001b[1;31mValueError\u001b[0m                                Traceback (most recent call last)",
      "\u001b[1;32m<ipython-input-56-041a9318abac>\u001b[0m in \u001b[0;36m<module>\u001b[1;34m\u001b[0m\n\u001b[0;32m      2\u001b[0m \u001b[0mplt\u001b[0m\u001b[1;33m.\u001b[0m\u001b[0mtitle\u001b[0m\u001b[1;33m(\u001b[0m\u001b[1;34m'SQRT TRANSFORM'\u001b[0m\u001b[1;33m)\u001b[0m\u001b[1;33m;\u001b[0m\u001b[1;33m\u001b[0m\u001b[1;33m\u001b[0m\u001b[0m\n\u001b[0;32m      3\u001b[0m \u001b[0mplt\u001b[0m\u001b[1;33m.\u001b[0m\u001b[0mshow\u001b[0m\u001b[1;33m(\u001b[0m\u001b[1;33m)\u001b[0m\u001b[1;33m\u001b[0m\u001b[1;33m\u001b[0m\u001b[0m\n\u001b[1;32m----> 4\u001b[1;33m \u001b[0msns\u001b[0m\u001b[1;33m.\u001b[0m\u001b[0mhistplot\u001b[0m\u001b[1;33m(\u001b[0m\u001b[0mnp\u001b[0m\u001b[1;33m.\u001b[0m\u001b[0mlog\u001b[0m\u001b[1;33m(\u001b[0m\u001b[0mdf\u001b[0m\u001b[1;33m[\u001b[0m\u001b[1;34m'revenue'\u001b[0m\u001b[1;33m]\u001b[0m\u001b[1;33m)\u001b[0m\u001b[1;33m,\u001b[0m \u001b[0mkde\u001b[0m\u001b[1;33m=\u001b[0m\u001b[1;32mTrue\u001b[0m\u001b[1;33m)\u001b[0m\u001b[1;33m;\u001b[0m\u001b[1;33m\u001b[0m\u001b[1;33m\u001b[0m\u001b[0m\n\u001b[0m\u001b[0;32m      5\u001b[0m \u001b[0mplt\u001b[0m\u001b[1;33m.\u001b[0m\u001b[0mtitle\u001b[0m\u001b[1;33m(\u001b[0m\u001b[1;34m'LOG TRANSFORM'\u001b[0m\u001b[1;33m)\u001b[0m\u001b[1;33m;\u001b[0m\u001b[1;33m\u001b[0m\u001b[1;33m\u001b[0m\u001b[0m\n\u001b[0;32m      6\u001b[0m \u001b[0mplt\u001b[0m\u001b[1;33m.\u001b[0m\u001b[0mshow\u001b[0m\u001b[1;33m(\u001b[0m\u001b[1;33m)\u001b[0m\u001b[1;33m\u001b[0m\u001b[1;33m\u001b[0m\u001b[0m\n",
      "\u001b[1;32m~\\anaconda3\\lib\\site-packages\\seaborn\\distributions.py\u001b[0m in \u001b[0;36mhistplot\u001b[1;34m(data, x, y, hue, weights, stat, bins, binwidth, binrange, discrete, cumulative, common_bins, common_norm, multiple, element, fill, shrink, kde, kde_kws, line_kws, thresh, pthresh, pmax, cbar, cbar_ax, cbar_kws, palette, hue_order, hue_norm, color, log_scale, legend, ax, **kwargs)\u001b[0m\n\u001b[0;32m   1421\u001b[0m     \u001b[1;32mif\u001b[0m \u001b[0mp\u001b[0m\u001b[1;33m.\u001b[0m\u001b[0munivariate\u001b[0m\u001b[1;33m:\u001b[0m\u001b[1;33m\u001b[0m\u001b[1;33m\u001b[0m\u001b[0m\n\u001b[0;32m   1422\u001b[0m \u001b[1;33m\u001b[0m\u001b[0m\n\u001b[1;32m-> 1423\u001b[1;33m         p.plot_univariate_histogram(\n\u001b[0m\u001b[0;32m   1424\u001b[0m             \u001b[0mmultiple\u001b[0m\u001b[1;33m=\u001b[0m\u001b[0mmultiple\u001b[0m\u001b[1;33m,\u001b[0m\u001b[1;33m\u001b[0m\u001b[1;33m\u001b[0m\u001b[0m\n\u001b[0;32m   1425\u001b[0m             \u001b[0melement\u001b[0m\u001b[1;33m=\u001b[0m\u001b[0melement\u001b[0m\u001b[1;33m,\u001b[0m\u001b[1;33m\u001b[0m\u001b[1;33m\u001b[0m\u001b[0m\n",
      "\u001b[1;32m~\\anaconda3\\lib\\site-packages\\seaborn\\distributions.py\u001b[0m in \u001b[0;36mplot_univariate_histogram\u001b[1;34m(self, multiple, element, fill, common_norm, common_bins, shrink, kde, kde_kws, color, legend, line_kws, estimate_kws, **plot_kws)\u001b[0m\n\u001b[0;32m    435\u001b[0m \u001b[1;33m\u001b[0m\u001b[0m\n\u001b[0;32m    436\u001b[0m             \u001b[1;31m# Do the histogram computation\u001b[0m\u001b[1;33m\u001b[0m\u001b[1;33m\u001b[0m\u001b[1;33m\u001b[0m\u001b[0m\n\u001b[1;32m--> 437\u001b[1;33m             \u001b[0mheights\u001b[0m\u001b[1;33m,\u001b[0m \u001b[0medges\u001b[0m \u001b[1;33m=\u001b[0m \u001b[0mestimator\u001b[0m\u001b[1;33m(\u001b[0m\u001b[0mobservations\u001b[0m\u001b[1;33m,\u001b[0m \u001b[0mweights\u001b[0m\u001b[1;33m=\u001b[0m\u001b[0mweights\u001b[0m\u001b[1;33m)\u001b[0m\u001b[1;33m\u001b[0m\u001b[1;33m\u001b[0m\u001b[0m\n\u001b[0m\u001b[0;32m    438\u001b[0m \u001b[1;33m\u001b[0m\u001b[0m\n\u001b[0;32m    439\u001b[0m             \u001b[1;31m# Rescale the smoothed curve to match the histogram\u001b[0m\u001b[1;33m\u001b[0m\u001b[1;33m\u001b[0m\u001b[1;33m\u001b[0m\u001b[0m\n",
      "\u001b[1;32m~\\anaconda3\\lib\\site-packages\\seaborn\\_statistics.py\u001b[0m in \u001b[0;36m__call__\u001b[1;34m(self, x1, x2, weights)\u001b[0m\n\u001b[0;32m    369\u001b[0m         \u001b[1;34m\"\"\"Count the occurrances in each bin, maybe normalize.\"\"\"\u001b[0m\u001b[1;33m\u001b[0m\u001b[1;33m\u001b[0m\u001b[0m\n\u001b[0;32m    370\u001b[0m         \u001b[1;32mif\u001b[0m \u001b[0mx2\u001b[0m \u001b[1;32mis\u001b[0m \u001b[1;32mNone\u001b[0m\u001b[1;33m:\u001b[0m\u001b[1;33m\u001b[0m\u001b[1;33m\u001b[0m\u001b[0m\n\u001b[1;32m--> 371\u001b[1;33m             \u001b[1;32mreturn\u001b[0m \u001b[0mself\u001b[0m\u001b[1;33m.\u001b[0m\u001b[0m_eval_univariate\u001b[0m\u001b[1;33m(\u001b[0m\u001b[0mx1\u001b[0m\u001b[1;33m,\u001b[0m \u001b[0mweights\u001b[0m\u001b[1;33m)\u001b[0m\u001b[1;33m\u001b[0m\u001b[1;33m\u001b[0m\u001b[0m\n\u001b[0m\u001b[0;32m    372\u001b[0m         \u001b[1;32melse\u001b[0m\u001b[1;33m:\u001b[0m\u001b[1;33m\u001b[0m\u001b[1;33m\u001b[0m\u001b[0m\n\u001b[0;32m    373\u001b[0m             \u001b[1;32mreturn\u001b[0m \u001b[0mself\u001b[0m\u001b[1;33m.\u001b[0m\u001b[0m_eval_bivariate\u001b[0m\u001b[1;33m(\u001b[0m\u001b[0mx1\u001b[0m\u001b[1;33m,\u001b[0m \u001b[0mx2\u001b[0m\u001b[1;33m,\u001b[0m \u001b[0mweights\u001b[0m\u001b[1;33m)\u001b[0m\u001b[1;33m\u001b[0m\u001b[1;33m\u001b[0m\u001b[0m\n",
      "\u001b[1;32m~\\anaconda3\\lib\\site-packages\\seaborn\\_statistics.py\u001b[0m in \u001b[0;36m_eval_univariate\u001b[1;34m(self, x, weights)\u001b[0m\n\u001b[0;32m    346\u001b[0m         \u001b[0mbin_edges\u001b[0m \u001b[1;33m=\u001b[0m \u001b[0mself\u001b[0m\u001b[1;33m.\u001b[0m\u001b[0mbin_edges\u001b[0m\u001b[1;33m\u001b[0m\u001b[1;33m\u001b[0m\u001b[0m\n\u001b[0;32m    347\u001b[0m         \u001b[1;32mif\u001b[0m \u001b[0mbin_edges\u001b[0m \u001b[1;32mis\u001b[0m \u001b[1;32mNone\u001b[0m\u001b[1;33m:\u001b[0m\u001b[1;33m\u001b[0m\u001b[1;33m\u001b[0m\u001b[0m\n\u001b[1;32m--> 348\u001b[1;33m             \u001b[0mbin_edges\u001b[0m \u001b[1;33m=\u001b[0m \u001b[0mself\u001b[0m\u001b[1;33m.\u001b[0m\u001b[0mdefine_bin_edges\u001b[0m\u001b[1;33m(\u001b[0m\u001b[0mx\u001b[0m\u001b[1;33m,\u001b[0m \u001b[0mweights\u001b[0m\u001b[1;33m=\u001b[0m\u001b[0mweights\u001b[0m\u001b[1;33m,\u001b[0m \u001b[0mcache\u001b[0m\u001b[1;33m=\u001b[0m\u001b[1;32mFalse\u001b[0m\u001b[1;33m)\u001b[0m\u001b[1;33m\u001b[0m\u001b[1;33m\u001b[0m\u001b[0m\n\u001b[0m\u001b[0;32m    349\u001b[0m \u001b[1;33m\u001b[0m\u001b[0m\n\u001b[0;32m    350\u001b[0m         \u001b[0mdensity\u001b[0m \u001b[1;33m=\u001b[0m \u001b[0mself\u001b[0m\u001b[1;33m.\u001b[0m\u001b[0mstat\u001b[0m \u001b[1;33m==\u001b[0m \u001b[1;34m\"density\"\u001b[0m\u001b[1;33m\u001b[0m\u001b[1;33m\u001b[0m\u001b[0m\n",
      "\u001b[1;32m~\\anaconda3\\lib\\site-packages\\seaborn\\_statistics.py\u001b[0m in \u001b[0;36mdefine_bin_edges\u001b[1;34m(self, x1, x2, weights, cache)\u001b[0m\n\u001b[0;32m    263\u001b[0m         \u001b[1;32mif\u001b[0m \u001b[0mx2\u001b[0m \u001b[1;32mis\u001b[0m \u001b[1;32mNone\u001b[0m\u001b[1;33m:\u001b[0m\u001b[1;33m\u001b[0m\u001b[1;33m\u001b[0m\u001b[0m\n\u001b[0;32m    264\u001b[0m \u001b[1;33m\u001b[0m\u001b[0m\n\u001b[1;32m--> 265\u001b[1;33m             bin_edges = self._define_bin_edges(\n\u001b[0m\u001b[0;32m    266\u001b[0m                 \u001b[0mx1\u001b[0m\u001b[1;33m,\u001b[0m \u001b[0mweights\u001b[0m\u001b[1;33m,\u001b[0m \u001b[0mself\u001b[0m\u001b[1;33m.\u001b[0m\u001b[0mbins\u001b[0m\u001b[1;33m,\u001b[0m \u001b[0mself\u001b[0m\u001b[1;33m.\u001b[0m\u001b[0mbinwidth\u001b[0m\u001b[1;33m,\u001b[0m \u001b[0mself\u001b[0m\u001b[1;33m.\u001b[0m\u001b[0mbinrange\u001b[0m\u001b[1;33m,\u001b[0m \u001b[0mself\u001b[0m\u001b[1;33m.\u001b[0m\u001b[0mdiscrete\u001b[0m\u001b[1;33m,\u001b[0m\u001b[1;33m\u001b[0m\u001b[1;33m\u001b[0m\u001b[0m\n\u001b[0;32m    267\u001b[0m             )\n",
      "\u001b[1;32m~\\anaconda3\\lib\\site-packages\\seaborn\\_statistics.py\u001b[0m in \u001b[0;36m_define_bin_edges\u001b[1;34m(self, x, weights, bins, binwidth, binrange, discrete)\u001b[0m\n\u001b[0;32m    254\u001b[0m             \u001b[0mbin_edges\u001b[0m \u001b[1;33m=\u001b[0m \u001b[0mnp\u001b[0m\u001b[1;33m.\u001b[0m\u001b[0marange\u001b[0m\u001b[1;33m(\u001b[0m\u001b[0mstart\u001b[0m\u001b[1;33m,\u001b[0m \u001b[0mstop\u001b[0m \u001b[1;33m+\u001b[0m \u001b[0mstep\u001b[0m\u001b[1;33m,\u001b[0m \u001b[0mstep\u001b[0m\u001b[1;33m)\u001b[0m\u001b[1;33m\u001b[0m\u001b[1;33m\u001b[0m\u001b[0m\n\u001b[0;32m    255\u001b[0m         \u001b[1;32melse\u001b[0m\u001b[1;33m:\u001b[0m\u001b[1;33m\u001b[0m\u001b[1;33m\u001b[0m\u001b[0m\n\u001b[1;32m--> 256\u001b[1;33m             bin_edges = np.histogram_bin_edges(\n\u001b[0m\u001b[0;32m    257\u001b[0m                 \u001b[0mx\u001b[0m\u001b[1;33m,\u001b[0m \u001b[0mbins\u001b[0m\u001b[1;33m,\u001b[0m \u001b[0mbinrange\u001b[0m\u001b[1;33m,\u001b[0m \u001b[0mweights\u001b[0m\u001b[1;33m,\u001b[0m\u001b[1;33m\u001b[0m\u001b[1;33m\u001b[0m\u001b[0m\n\u001b[0;32m    258\u001b[0m             )\n",
      "\u001b[1;32m<__array_function__ internals>\u001b[0m in \u001b[0;36mhistogram_bin_edges\u001b[1;34m(*args, **kwargs)\u001b[0m\n",
      "\u001b[1;32m~\\anaconda3\\lib\\site-packages\\numpy\\lib\\histograms.py\u001b[0m in \u001b[0;36mhistogram_bin_edges\u001b[1;34m(a, bins, range, weights)\u001b[0m\n\u001b[0;32m    666\u001b[0m     \"\"\"\n\u001b[0;32m    667\u001b[0m     \u001b[0ma\u001b[0m\u001b[1;33m,\u001b[0m \u001b[0mweights\u001b[0m \u001b[1;33m=\u001b[0m \u001b[0m_ravel_and_check_weights\u001b[0m\u001b[1;33m(\u001b[0m\u001b[0ma\u001b[0m\u001b[1;33m,\u001b[0m \u001b[0mweights\u001b[0m\u001b[1;33m)\u001b[0m\u001b[1;33m\u001b[0m\u001b[1;33m\u001b[0m\u001b[0m\n\u001b[1;32m--> 668\u001b[1;33m     \u001b[0mbin_edges\u001b[0m\u001b[1;33m,\u001b[0m \u001b[0m_\u001b[0m \u001b[1;33m=\u001b[0m \u001b[0m_get_bin_edges\u001b[0m\u001b[1;33m(\u001b[0m\u001b[0ma\u001b[0m\u001b[1;33m,\u001b[0m \u001b[0mbins\u001b[0m\u001b[1;33m,\u001b[0m \u001b[0mrange\u001b[0m\u001b[1;33m,\u001b[0m \u001b[0mweights\u001b[0m\u001b[1;33m)\u001b[0m\u001b[1;33m\u001b[0m\u001b[1;33m\u001b[0m\u001b[0m\n\u001b[0m\u001b[0;32m    669\u001b[0m     \u001b[1;32mreturn\u001b[0m \u001b[0mbin_edges\u001b[0m\u001b[1;33m\u001b[0m\u001b[1;33m\u001b[0m\u001b[0m\n\u001b[0;32m    670\u001b[0m \u001b[1;33m\u001b[0m\u001b[0m\n",
      "\u001b[1;32m~\\anaconda3\\lib\\site-packages\\numpy\\lib\\histograms.py\u001b[0m in \u001b[0;36m_get_bin_edges\u001b[1;34m(a, bins, range, weights)\u001b[0m\n\u001b[0;32m    394\u001b[0m                             \"bins is not supported for weighted data\")\n\u001b[0;32m    395\u001b[0m \u001b[1;33m\u001b[0m\u001b[0m\n\u001b[1;32m--> 396\u001b[1;33m         \u001b[0mfirst_edge\u001b[0m\u001b[1;33m,\u001b[0m \u001b[0mlast_edge\u001b[0m \u001b[1;33m=\u001b[0m \u001b[0m_get_outer_edges\u001b[0m\u001b[1;33m(\u001b[0m\u001b[0ma\u001b[0m\u001b[1;33m,\u001b[0m \u001b[0mrange\u001b[0m\u001b[1;33m)\u001b[0m\u001b[1;33m\u001b[0m\u001b[1;33m\u001b[0m\u001b[0m\n\u001b[0m\u001b[0;32m    397\u001b[0m \u001b[1;33m\u001b[0m\u001b[0m\n\u001b[0;32m    398\u001b[0m         \u001b[1;31m# truncate the range if needed\u001b[0m\u001b[1;33m\u001b[0m\u001b[1;33m\u001b[0m\u001b[1;33m\u001b[0m\u001b[0m\n",
      "\u001b[1;32m~\\anaconda3\\lib\\site-packages\\numpy\\lib\\histograms.py\u001b[0m in \u001b[0;36m_get_outer_edges\u001b[1;34m(a, range)\u001b[0m\n\u001b[0;32m    321\u001b[0m         \u001b[0mfirst_edge\u001b[0m\u001b[1;33m,\u001b[0m \u001b[0mlast_edge\u001b[0m \u001b[1;33m=\u001b[0m \u001b[0ma\u001b[0m\u001b[1;33m.\u001b[0m\u001b[0mmin\u001b[0m\u001b[1;33m(\u001b[0m\u001b[1;33m)\u001b[0m\u001b[1;33m,\u001b[0m \u001b[0ma\u001b[0m\u001b[1;33m.\u001b[0m\u001b[0mmax\u001b[0m\u001b[1;33m(\u001b[0m\u001b[1;33m)\u001b[0m\u001b[1;33m\u001b[0m\u001b[1;33m\u001b[0m\u001b[0m\n\u001b[0;32m    322\u001b[0m         \u001b[1;32mif\u001b[0m \u001b[1;32mnot\u001b[0m \u001b[1;33m(\u001b[0m\u001b[0mnp\u001b[0m\u001b[1;33m.\u001b[0m\u001b[0misfinite\u001b[0m\u001b[1;33m(\u001b[0m\u001b[0mfirst_edge\u001b[0m\u001b[1;33m)\u001b[0m \u001b[1;32mand\u001b[0m \u001b[0mnp\u001b[0m\u001b[1;33m.\u001b[0m\u001b[0misfinite\u001b[0m\u001b[1;33m(\u001b[0m\u001b[0mlast_edge\u001b[0m\u001b[1;33m)\u001b[0m\u001b[1;33m)\u001b[0m\u001b[1;33m:\u001b[0m\u001b[1;33m\u001b[0m\u001b[1;33m\u001b[0m\u001b[0m\n\u001b[1;32m--> 323\u001b[1;33m             raise ValueError(\n\u001b[0m\u001b[0;32m    324\u001b[0m                 \"autodetected range of [{}, {}] is not finite\".format(first_edge, last_edge))\n\u001b[0;32m    325\u001b[0m \u001b[1;33m\u001b[0m\u001b[0m\n",
      "\u001b[1;31mValueError\u001b[0m: autodetected range of [-inf, 9.928931590053136] is not finite"
     ]
    },
    {
     "data": {
      "image/png": "[encoded data removed]",
      "text/plain": [
       "<Figure size 432x288 with 1 Axes>"
      ]
     },
     "metadata": {
      "needs_background": "light"
     },
     "output_type": "display_data"
    }
   ],
   "source": [
    "sns.histplot(x=np.sqrt(df['revenue']), kde=True);\n",
    "plt.title('SQRT TRANSFORM');\n",
    "plt.show()\n",
    "sns.histplot(np.log(df['revenue']), kde=True);\n",
    "plt.title('LOG TRANSFORM');\n",
    "plt.show()"
   ]
  },
  {
   "cell_type": "code",
   "execution_count": 178,
   "id": "d2f605e1",
   "metadata": {},
   "outputs": [],
   "source": [
    "df=pd.get_dummies(df, prefix='',prefix_sep='')"
   ]
  },
  {
   "cell_type": "code",
   "execution_count": 179,
   "id": "9b9edd20",
   "metadata": {},
   "outputs": [
    {
     "data": {
      "text/plain": [
       "(4571, 83)"
      ]
     },
     "execution_count": 179,
     "metadata": {},
     "output_type": "execute_result"
    }
   ],
   "source": [
    "df.shape"
   ]
  },
  {
   "cell_type": "code",
   "execution_count": 180,
   "id": "8c49cb86",
   "metadata": {},
   "outputs": [
    {
     "data": {
      "text/plain": [
       "Index(['impressions', 'clicks', 'cost', 'conversions', 'revenue', 'year',\n",
       "       'month', 'day', 'campaign 1', 'adgroup 1', 'adgroup 2', 'adgroup 3',\n",
       "       'adgroup 4', 'ad 1', 'ad 10', 'ad 11', 'ad 12', 'ad 13', 'ad 14',\n",
       "       'ad 15', 'ad 16', 'ad 17', 'ad 18', 'ad 19', 'ad 2', 'ad 20', 'ad 21',\n",
       "       'ad 22', 'ad 23', 'ad 24', 'ad 25', 'ad 26', 'ad 27', 'ad 28', 'ad 29',\n",
       "       'ad 3', 'ad 30', 'ad 31', 'ad 32', 'ad 33', 'ad 34', 'ad 35', 'ad 36',\n",
       "       'ad 37', 'ad 38', 'ad 39', 'ad 4', 'ad 40', 'ad 41', 'ad 42', 'ad 43',\n",
       "       'ad 44', 'ad 45', 'ad 46', 'ad 47', 'ad 48', 'ad 49', 'ad 5', 'ad 50',\n",
       "       'ad 51', 'ad 52', 'ad 53', 'ad 54', 'ad 55', 'ad 56', 'ad 57', 'ad 58',\n",
       "       'ad 59', 'ad 6', 'ad 60', 'ad 61', 'ad 62', 'ad 63', 'ad 64', 'ad 65',\n",
       "       'ad 66', 'ad 67', 'ad 68', 'ad 69', 'ad 7', 'ad 70', 'ad 8', 'ad 9'],\n",
       "      dtype='object')"
      ]
     },
     "execution_count": 180,
     "metadata": {},
     "output_type": "execute_result"
    }
   ],
   "source": [
    "df.columns"
   ]
  },
  {
   "cell_type": "code",
   "execution_count": 181,
   "id": "c5781fb9",
   "metadata": {},
   "outputs": [],
   "source": [
    "tdf=pd.get_dummies(tdf, prefix='',prefix_sep='')"
   ]
  },
  {
   "cell_type": "code",
   "execution_count": 182,
   "id": "80eae0cd",
   "metadata": {},
   "outputs": [],
   "source": [
    "for col in adsr:\n",
    "    tdf[col] = 0"
   ]
  },
  {
   "cell_type": "code",
   "execution_count": 183,
   "id": "08c74e78",
   "metadata": {},
   "outputs": [
    {
     "data": {
      "text/plain": [
       "(318, 87)"
      ]
     },
     "execution_count": 183,
     "metadata": {},
     "output_type": "execute_result"
    }
   ],
   "source": [
    "tdf.shape"
   ]
  },
  {
   "cell_type": "code",
   "execution_count": 184,
   "id": "ac4cb5ab",
   "metadata": {},
   "outputs": [
    {
     "data": {
      "text/plain": [
       "Index(['cost', 'impressions', 'clicks', 'conversions', 'year', 'month', 'day',\n",
       "       'campaign 1', 'adgroup 1', 'adgroup 2', 'adgroup 3', 'adgroup 4',\n",
       "       'ad 1', 'ad 10', 'ad 2', 'ad 3', 'ad 4', 'ad 5', 'ad 55', 'ad 56',\n",
       "       'ad 6', 'ad 7', 'ad 71', 'ad 72', 'ad 73', 'ad 74', 'ad 75', 'ad 8',\n",
       "       'ad 31', 'ad 13', 'ad 68', 'ad 54', 'ad 58', 'ad 62', 'ad 30', 'ad 21',\n",
       "       'ad 19', 'ad 45', 'ad 60', 'ad 26', 'ad 38', 'ad 27', 'ad 18', 'ad 35',\n",
       "       'ad 44', 'ad 59', 'ad 24', 'ad 47', 'ad 29', 'ad 43', 'ad 66', 'ad 25',\n",
       "       'ad 41', 'ad 69', 'ad 48', 'ad 17', 'ad 57', 'ad 32', 'ad 64', 'ad 15',\n",
       "       'ad 50', 'ad 51', 'ad 14', 'ad 36', 'ad 46', 'ad 70', 'ad 33', 'ad 20',\n",
       "       'ad 42', 'ad 65', 'ad 28', 'ad 16', 'ad 67', 'ad 63', 'ad 23', 'ad 9',\n",
       "       'ad 22', 'ad 37', 'ad 39', 'ad 52', 'ad 11', 'ad 61', 'ad 40', 'ad 34',\n",
       "       'ad 49', 'ad 53', 'ad 12'],\n",
       "      dtype='object')"
      ]
     },
     "execution_count": 184,
     "metadata": {},
     "output_type": "execute_result"
    }
   ],
   "source": [
    "tdf.columns"
   ]
  },
  {
   "cell_type": "code",
   "execution_count": 185,
   "id": "a47ba53a",
   "metadata": {},
   "outputs": [
    {
     "data": {
      "text/plain": [
       "['ad 75', 'ad 74', 'ad 72', 'ad 71', 'ad 73']"
      ]
     },
     "execution_count": 185,
     "metadata": {},
     "output_type": "execute_result"
    }
   ],
   "source": [
    "l=list(set(tdf.columns)-set(df.columns))\n",
    "l"
   ]
  },
  {
   "cell_type": "code",
   "execution_count": 186,
   "id": "82560c73",
   "metadata": {},
   "outputs": [],
   "source": [
    "for col in l:\n",
    "    df[col] = 0"
   ]
  },
  {
   "cell_type": "code",
   "execution_count": 187,
   "id": "a913fd15",
   "metadata": {},
   "outputs": [
    {
     "data": {
      "text/plain": [
       "(4571, 88)"
      ]
     },
     "execution_count": 187,
     "metadata": {},
     "output_type": "execute_result"
    }
   ],
   "source": [
    "df.shape"
   ]
  },
  {
   "cell_type": "code",
   "execution_count": 188,
   "id": "5f1d078b",
   "metadata": {},
   "outputs": [],
   "source": [
    "from sklearn.model_selection import train_test_split\n",
    "X= df.drop(columns= ['revenue'], axis =1)\n",
    "y= df[['revenue']]\n",
    "\n",
    "X_train, X_test, y_train, y_test = train_test_split(X, y, test_size=0.2, random_state=45)"
   ]
  },
  {
   "cell_type": "code",
   "execution_count": 189,
   "id": "106ed8d0",
   "metadata": {},
   "outputs": [
    {
     "name": "stdout",
     "output_type": "stream",
     "text": [
      "X_train: (3656, 87)\n",
      "X_test: (915, 87)\n",
      "y_train: (3656, 1)\n",
      "y_test: (915, 1)\n"
     ]
    }
   ],
   "source": [
    "print(\"X_train:\",X_train.shape ) # X_train\n",
    "print(\"X_test:\",X_test.shape) # X_test\n",
    "print(\"y_train:\",y_train.shape) # y_train\n",
    "print(\"y_test:\",y_test.shape) # y_test"
   ]
  },
  {
   "cell_type": "code",
   "execution_count": 190,
   "id": "ee2ce277",
   "metadata": {},
   "outputs": [],
   "source": [
    "from sklearn.preprocessing import StandardScaler\n",
    "from sklearn import preprocessing\n",
    "scaler=StandardScaler()\n",
    "X_train_scaled=scaler.fit_transform(X_train)\n",
    "X_test_scaled=scaler.transform(X_test)\n",
    "\n"
   ]
  },
  {
   "cell_type": "code",
   "execution_count": 191,
   "id": "68e6039d",
   "metadata": {},
   "outputs": [],
   "source": [
    "scaler1=StandardScaler()\n",
    "X_scaled=scaler1.fit_transform(X)\n",
    "tdf_scaled=scaler1.transform(tdf)"
   ]
  },
  {
   "cell_type": "code",
   "execution_count": 192,
   "id": "d9dcfa86",
   "metadata": {},
   "outputs": [
    {
     "data": {
      "text/html": [
       "<div>\n",
       "<style scoped>\n",
       "    .dataframe tbody tr th:only-of-type {\n",
       "        vertical-align: middle;\n",
       "    }\n",
       "\n",
       "    .dataframe tbody tr th {\n",
       "        vertical-align: top;\n",
       "    }\n",
       "\n",
       "    .dataframe thead th {\n",
       "        text-align: right;\n",
       "    }\n",
       "</style>\n",
       "<table border=\"1\" class=\"dataframe\">\n",
       "  <thead>\n",
       "    <tr style=\"text-align: right;\">\n",
       "      <th></th>\n",
       "      <th>impressions</th>\n",
       "      <th>clicks</th>\n",
       "      <th>cost</th>\n",
       "      <th>conversions</th>\n",
       "      <th>year</th>\n",
       "      <th>month</th>\n",
       "      <th>day</th>\n",
       "      <th>campaign 1</th>\n",
       "      <th>adgroup 1</th>\n",
       "      <th>adgroup 2</th>\n",
       "      <th>...</th>\n",
       "      <th>ad 69</th>\n",
       "      <th>ad 7</th>\n",
       "      <th>ad 70</th>\n",
       "      <th>ad 8</th>\n",
       "      <th>ad 9</th>\n",
       "      <th>ad 75</th>\n",
       "      <th>ad 74</th>\n",
       "      <th>ad 72</th>\n",
       "      <th>ad 71</th>\n",
       "      <th>ad 73</th>\n",
       "    </tr>\n",
       "  </thead>\n",
       "  <tbody>\n",
       "    <tr>\n",
       "      <th>141</th>\n",
       "      <td>17</td>\n",
       "      <td>5</td>\n",
       "      <td>0.07</td>\n",
       "      <td>0</td>\n",
       "      <td>2020</td>\n",
       "      <td>7</td>\n",
       "      <td>8</td>\n",
       "      <td>1</td>\n",
       "      <td>1</td>\n",
       "      <td>0</td>\n",
       "      <td>...</td>\n",
       "      <td>0</td>\n",
       "      <td>0</td>\n",
       "      <td>0</td>\n",
       "      <td>0</td>\n",
       "      <td>0</td>\n",
       "      <td>0</td>\n",
       "      <td>0</td>\n",
       "      <td>0</td>\n",
       "      <td>0</td>\n",
       "      <td>0</td>\n",
       "    </tr>\n",
       "    <tr>\n",
       "      <th>2689</th>\n",
       "      <td>15</td>\n",
       "      <td>1</td>\n",
       "      <td>0.01</td>\n",
       "      <td>0</td>\n",
       "      <td>2020</td>\n",
       "      <td>12</td>\n",
       "      <td>13</td>\n",
       "      <td>1</td>\n",
       "      <td>1</td>\n",
       "      <td>0</td>\n",
       "      <td>...</td>\n",
       "      <td>0</td>\n",
       "      <td>0</td>\n",
       "      <td>0</td>\n",
       "      <td>0</td>\n",
       "      <td>0</td>\n",
       "      <td>0</td>\n",
       "      <td>0</td>\n",
       "      <td>0</td>\n",
       "      <td>0</td>\n",
       "      <td>0</td>\n",
       "    </tr>\n",
       "    <tr>\n",
       "      <th>250</th>\n",
       "      <td>13</td>\n",
       "      <td>6</td>\n",
       "      <td>0.07</td>\n",
       "      <td>0</td>\n",
       "      <td>2020</td>\n",
       "      <td>8</td>\n",
       "      <td>13</td>\n",
       "      <td>1</td>\n",
       "      <td>1</td>\n",
       "      <td>0</td>\n",
       "      <td>...</td>\n",
       "      <td>0</td>\n",
       "      <td>0</td>\n",
       "      <td>0</td>\n",
       "      <td>0</td>\n",
       "      <td>0</td>\n",
       "      <td>0</td>\n",
       "      <td>0</td>\n",
       "      <td>0</td>\n",
       "      <td>0</td>\n",
       "      <td>0</td>\n",
       "    </tr>\n",
       "    <tr>\n",
       "      <th>273</th>\n",
       "      <td>2</td>\n",
       "      <td>0</td>\n",
       "      <td>0.00</td>\n",
       "      <td>0</td>\n",
       "      <td>2020</td>\n",
       "      <td>8</td>\n",
       "      <td>15</td>\n",
       "      <td>1</td>\n",
       "      <td>0</td>\n",
       "      <td>0</td>\n",
       "      <td>...</td>\n",
       "      <td>0</td>\n",
       "      <td>0</td>\n",
       "      <td>0</td>\n",
       "      <td>0</td>\n",
       "      <td>0</td>\n",
       "      <td>0</td>\n",
       "      <td>0</td>\n",
       "      <td>0</td>\n",
       "      <td>0</td>\n",
       "      <td>0</td>\n",
       "    </tr>\n",
       "    <tr>\n",
       "      <th>2767</th>\n",
       "      <td>1</td>\n",
       "      <td>0</td>\n",
       "      <td>0.00</td>\n",
       "      <td>0</td>\n",
       "      <td>2020</td>\n",
       "      <td>12</td>\n",
       "      <td>16</td>\n",
       "      <td>1</td>\n",
       "      <td>0</td>\n",
       "      <td>0</td>\n",
       "      <td>...</td>\n",
       "      <td>0</td>\n",
       "      <td>0</td>\n",
       "      <td>0</td>\n",
       "      <td>0</td>\n",
       "      <td>0</td>\n",
       "      <td>0</td>\n",
       "      <td>0</td>\n",
       "      <td>0</td>\n",
       "      <td>0</td>\n",
       "      <td>0</td>\n",
       "    </tr>\n",
       "  </tbody>\n",
       "</table>\n",
       "<p>5 rows × 87 columns</p>\n",
       "</div>"
      ],
      "text/plain": [
       "      impressions  clicks  cost  conversions  year  month  day  campaign 1  \\\n",
       "141            17       5  0.07            0  2020      7    8           1   \n",
       "2689           15       1  0.01            0  2020     12   13           1   \n",
       "250            13       6  0.07            0  2020      8   13           1   \n",
       "273             2       0  0.00            0  2020      8   15           1   \n",
       "2767            1       0  0.00            0  2020     12   16           1   \n",
       "\n",
       "      adgroup 1  adgroup 2  ...  ad 69  ad 7  ad 70  ad 8  ad 9  ad 75  ad 74  \\\n",
       "141           1          0  ...      0     0      0     0     0      0      0   \n",
       "2689          1          0  ...      0     0      0     0     0      0      0   \n",
       "250           1          0  ...      0     0      0     0     0      0      0   \n",
       "273           0          0  ...      0     0      0     0     0      0      0   \n",
       "2767          0          0  ...      0     0      0     0     0      0      0   \n",
       "\n",
       "      ad 72  ad 71  ad 73  \n",
       "141       0      0      0  \n",
       "2689      0      0      0  \n",
       "250       0      0      0  \n",
       "273       0      0      0  \n",
       "2767      0      0      0  \n",
       "\n",
       "[5 rows x 87 columns]"
      ]
     },
     "execution_count": 192,
     "metadata": {},
     "output_type": "execute_result"
    }
   ],
   "source": [
    "X_train.head()"
   ]
  },
  {
   "cell_type": "code",
   "execution_count": 193,
   "id": "1e25bd34",
   "metadata": {},
   "outputs": [],
   "source": [
    "from sklearn.linear_model import LinearRegression\n",
    "from sklearn.metrics import accuracy_score\n",
    "from sklearn.linear_model import Ridge, Lasso\n",
    "from sklearn.linear_model import RidgeCV, LassoCV\n",
    "\n",
    "## Import evaluation metrics and scalers.\n",
    "from sklearn.metrics import r2_score,mean_squared_error,mean_absolute_error\n",
    "from sklearn.model_selection import train_test_split, cross_val_score\n",
    "from sklearn import model_selection\n",
    "from sklearn.preprocessing import StandardScaler"
   ]
  },
  {
   "cell_type": "code",
   "execution_count": 194,
   "id": "1773fb4f",
   "metadata": {},
   "outputs": [],
   "source": [
    "from sklearn.model_selection import cross_val_score"
   ]
  },
  {
   "cell_type": "code",
   "execution_count": 205,
   "id": "c8b1491e",
   "metadata": {},
   "outputs": [],
   "source": [
    "from sklearn.model_selection import GridSearchCV"
   ]
  },
  {
   "cell_type": "code",
   "execution_count": 210,
   "id": "796349e0",
   "metadata": {},
   "outputs": [],
   "source": [
    "search_params = {\n",
    "    'n_estimators'      : [i for i in range(15,20)],\n",
    "    'max_features'      : [0.1,0.2,0.3],\n",
    "    'random_state'      : [i for i in range(295,300)],\n",
    "    'n_jobs'            : [-1],\n",
    "    'min_samples_split' : [10],\n",
    "    'max_depth'         : [i for i in range(15,25)]\n",
    "}"
   ]
  },
  {
   "cell_type": "code",
   "execution_count": 211,
   "id": "7b08e526",
   "metadata": {},
   "outputs": [],
   "source": [
    "rf = GridSearchCV(\n",
    "    XGBRegressor(),\n",
    "    search_params,\n",
    "    cv = 3,\n",
    "    n_jobs = -1,\n",
    "    verbose=True\n",
    ")"
   ]
  },
  {
   "cell_type": "code",
   "execution_count": 212,
   "id": "db2eeccb",
   "metadata": {},
   "outputs": [
    {
     "name": "stdout",
     "output_type": "stream",
     "text": [
      "Fitting 3 folds for each of 1500 candidates, totalling 4500 fits\n",
      "[23:51:04] WARNING: ..\\src\\learner.cc:541: \n",
      "Parameters: { max_features, min_samples_split } might not be used.\n",
      "\n",
      "  This may not be accurate due to some parameters are only used in language bindings but\n",
      "  passed down to XGBoost core.  Or some parameters are not used but slip through this\n",
      "  verification. Please open an issue if you find above cases.\n",
      "\n",
      "\n"
     ]
    },
    {
     "data": {
      "text/plain": [
       "GridSearchCV(cv=3,\n",
       "             estimator=XGBRegressor(base_score=None, booster=None,\n",
       "                                    colsample_bylevel=None,\n",
       "                                    colsample_bynode=None,\n",
       "                                    colsample_bytree=None, gamma=None,\n",
       "                                    gpu_id=None, importance_type='gain',\n",
       "                                    interaction_constraints=None,\n",
       "                                    learning_rate=None, max_delta_step=None,\n",
       "                                    max_depth=None, min_child_weight=None,\n",
       "                                    missing=nan, monotone_constraints=None,\n",
       "                                    n_estimators=100, n_jobs=...\n",
       "                                    reg_alpha=None, reg_lambda=None,\n",
       "                                    scale_pos_weight=None, subsample=None,\n",
       "                                    tree_method=None, validate_parameters=None,\n",
       "                                    verbosity=None),\n",
       "             n_jobs=-1,\n",
       "             param_grid={'max_depth': [15, 16, 17, 18, 19, 20, 21, 22, 23, 24],\n",
       "                         'max_features': [0.1, 0.2, 0.3],\n",
       "                         'min_samples_split': [10],\n",
       "                         'n_estimators': [15, 16, 17, 18, 19], 'n_jobs': [-1],\n",
       "                         'random_state': [295, 296, 297, 298, 299, 300, 301,\n",
       "                                          302, 303, 304]},\n",
       "             verbose=True)"
      ]
     },
     "execution_count": 212,
     "metadata": {},
     "output_type": "execute_result"
    }
   ],
   "source": [
    "rf.fit(X_scaled,y)"
   ]
  },
  {
   "cell_type": "code",
   "execution_count": 213,
   "id": "e78ab98f",
   "metadata": {},
   "outputs": [
    {
     "name": "stdout",
     "output_type": "stream",
     "text": [
      "XGBRegressor(base_score=0.5, booster='gbtree', colsample_bylevel=1,\n",
      "             colsample_bynode=1, colsample_bytree=1, gamma=0, gpu_id=-1,\n",
      "             importance_type='gain', interaction_constraints='',\n",
      "             learning_rate=0.300000012, max_delta_step=0, max_depth=18,\n",
      "             max_features=0.1, min_child_weight=1, min_samples_split=10,\n",
      "             missing=nan, monotone_constraints='()', n_estimators=15, n_jobs=-1,\n",
      "             num_parallel_tree=1, random_state=295, reg_alpha=0, reg_lambda=1,\n",
      "             scale_pos_weight=1, subsample=1, tree_method='exact',\n",
      "             validate_parameters=1, verbosity=None)\n"
     ]
    }
   ],
   "source": [
    "print(rf.best_estimator_)"
   ]
  },
  {
   "cell_type": "code",
   "execution_count": 214,
   "id": "9fd84245",
   "metadata": {},
   "outputs": [],
   "source": [
    "predictions=rf.predict(tdf_scaled)"
   ]
  },
  {
   "cell_type": "code",
   "execution_count": 215,
   "id": "4688a80e",
   "metadata": {},
   "outputs": [],
   "source": [
    "predictions[predictions<0] = 0.000000000"
   ]
  },
  {
   "cell_type": "code",
   "execution_count": 216,
   "id": "6214cd77",
   "metadata": {},
   "outputs": [],
   "source": [
    "res = pd.DataFrame(predictions)\n",
    "res.index = tdf.index \n",
    "res.columns = [\"revenue\"]\n",
    "res.to_csv(\"prediction_result_XGB_gridsearch.csv\", index = False)"
   ]
  },
  {
   "cell_type": "code",
   "execution_count": null,
   "id": "66766872",
   "metadata": {},
   "outputs": [],
   "source": []
  },
  {
   "cell_type": "code",
   "execution_count": 46,
   "id": "e4ace27c",
   "metadata": {},
   "outputs": [
    {
     "data": {
      "text/plain": [
       "0.950888766037271"
      ]
     },
     "execution_count": 46,
     "metadata": {},
     "output_type": "execute_result"
    }
   ],
   "source": [
    "reg= LinearRegression()\n",
    "reg.fit(X_train_scaled,y_train)\n",
    "pred=reg.predict(X_train_scaled)\n",
    "reg.score(X_train_scaled, y_train)"
   ]
  },
  {
   "cell_type": "code",
   "execution_count": 48,
   "id": "d6001c83",
   "metadata": {},
   "outputs": [
    {
     "data": {
      "text/plain": [
       "0.949851761009673"
      ]
     },
     "execution_count": 48,
     "metadata": {},
     "output_type": "execute_result"
    }
   ],
   "source": [
    "reg1= LinearRegression()\n",
    "reg1.fit(X_scaled,y)\n",
    "predictions=reg.predict(tdf_scaled)\n",
    "reg1.score(X_scaled,y)"
   ]
  },
  {
   "cell_type": "code",
   "execution_count": 49,
   "id": "58ef750e",
   "metadata": {},
   "outputs": [
    {
     "data": {
      "text/plain": [
       "(318, 1)"
      ]
     },
     "execution_count": 49,
     "metadata": {},
     "output_type": "execute_result"
    }
   ],
   "source": [
    "predictions.shape"
   ]
  },
  {
   "cell_type": "code",
   "execution_count": 50,
   "id": "d9eb2669",
   "metadata": {},
   "outputs": [
    {
     "data": {
      "text/plain": [
       "array([[ 5.38864873e+12],\n",
       "       [ 1.22956974e+12],\n",
       "       [-1.10251334e+12],\n",
       "       [ 4.89731340e+12],\n",
       "       [-1.17149750e+14],\n",
       "       [-1.23149577e+14],\n",
       "       [-1.16658415e+14],\n",
       "       [ 5.69225948e+13],\n",
       "       [ 5.32548512e+13],\n",
       "       [ 5.09227681e+13],\n",
       "       [ 5.74139302e+13],\n",
       "       [-8.47047621e+13],\n",
       "       [-4.82440343e+13],\n",
       "       [-2.54793021e+13],\n",
       "       [ 1.05810908e+14],\n",
       "       [ 1.06302244e+14],\n",
       "       [ 1.02143165e+14],\n",
       "       [-1.21034530e+14],\n",
       "       [-3.27097512e+13],\n",
       "       [ 1.22956974e+12],\n",
       "       [-1.10251334e+12],\n",
       "       [ 5.38864873e+12],\n",
       "       [ 4.89731340e+12],\n",
       "       [-1.16658415e+14],\n",
       "       [-1.23149577e+14],\n",
       "       [-1.17149750e+14],\n",
       "       [ 5.74139302e+13],\n",
       "       [ 5.32548512e+13],\n",
       "       [ 5.09227681e+13],\n",
       "       [ 5.69225948e+13],\n",
       "       [-8.47047621e+13],\n",
       "       [-4.82440343e+13],\n",
       "       [-2.54793021e+13],\n",
       "       [ 1.06302244e+14],\n",
       "       [ 1.02143165e+14],\n",
       "       [ 1.05810908e+14],\n",
       "       [-1.21034530e+14],\n",
       "       [-3.27097512e+13],\n",
       "       [-1.10251334e+12],\n",
       "       [ 1.22956974e+12],\n",
       "       [ 5.38864873e+12],\n",
       "       [-1.16658415e+14],\n",
       "       [ 5.69225948e+13],\n",
       "       [ 5.32548512e+13],\n",
       "       [ 5.74139302e+13],\n",
       "       [ 5.09227681e+13],\n",
       "       [-8.47047621e+13],\n",
       "       [-4.82440343e+13],\n",
       "       [-2.54793021e+13],\n",
       "       [ 1.06302244e+14],\n",
       "       [ 1.05810908e+14],\n",
       "       [ 1.02143165e+14],\n",
       "       [-1.21034530e+14],\n",
       "       [ 1.19914352e+13],\n",
       "       [ 1.61505142e+13],\n",
       "       [ 9.65935210e+12],\n",
       "       [ 1.56591788e+13],\n",
       "       [-3.27097512e+13],\n",
       "       [-5.25175775e+11],\n",
       "       [ 1.80690730e+12],\n",
       "       [ 5.47465096e+12],\n",
       "       [ 5.96598630e+12],\n",
       "       [-5.25175775e+11],\n",
       "       [ 5.96598630e+12],\n",
       "       [ 5.47465096e+12],\n",
       "       [ 1.80690730e+12],\n",
       "       [ 1.19914352e+13],\n",
       "       [ 1.61505142e+13],\n",
       "       [ 9.65935210e+12],\n",
       "       [ 1.56591788e+13],\n",
       "       [ 1.80690730e+12],\n",
       "       [-5.25175775e+11],\n",
       "       [-5.25175775e+11],\n",
       "       [ 5.47465096e+12],\n",
       "       [ 5.96598630e+12],\n",
       "       [ 1.80690730e+12],\n",
       "       [ 5.96598630e+12],\n",
       "       [-3.30377171e+13],\n",
       "       [-3.07056340e+13],\n",
       "       [-2.70378903e+13],\n",
       "       [-2.65465550e+13],\n",
       "       [ 9.65935210e+12],\n",
       "       [ 1.61505142e+13],\n",
       "       [ 1.19914352e+13],\n",
       "       [ 1.57402293e+12],\n",
       "       [-4.42580380e+12],\n",
       "       [ 2.06535827e+12],\n",
       "       [-2.09372072e+12],\n",
       "       [-2.51468754e+13],\n",
       "       [-1.86557133e+13],\n",
       "       [-2.28147923e+13],\n",
       "       [ 1.80690730e+12],\n",
       "       [ 5.96598630e+12],\n",
       "       [ 5.96598630e+12],\n",
       "       [ 1.80690730e+12],\n",
       "       [ 5.47465096e+12],\n",
       "       [ 5.47465096e+12],\n",
       "       [-5.25175775e+11],\n",
       "       [-3.07056340e+13],\n",
       "       [-2.70378903e+13],\n",
       "       [-2.65465550e+13],\n",
       "       [-3.30377171e+13],\n",
       "       [-4.42580380e+12],\n",
       "       [-2.09372072e+12],\n",
       "       [ 1.57402293e+12],\n",
       "       [ 2.06535827e+12],\n",
       "       [-1.91470487e+13],\n",
       "       [-2.28147923e+13],\n",
       "       [-2.51468754e+13],\n",
       "       [-1.86557133e+13],\n",
       "       [-3.30377171e+13],\n",
       "       [-3.07056340e+13],\n",
       "       [-2.70378903e+13],\n",
       "       [-2.65465550e+13],\n",
       "       [ 1.57402293e+12],\n",
       "       [-2.09372072e+12],\n",
       "       [-4.42580380e+12],\n",
       "       [ 2.06535827e+12],\n",
       "       [-1.86557133e+13],\n",
       "       [-2.28147923e+13],\n",
       "       [-1.91470487e+13],\n",
       "       [-2.51468754e+13],\n",
       "       [ 5.38864873e+12],\n",
       "       [-1.10251334e+12],\n",
       "       [ 1.22956974e+12],\n",
       "       [ 4.89731340e+12],\n",
       "       [-1.16658415e+14],\n",
       "       [-1.17149750e+14],\n",
       "       [ 5.74139302e+13],\n",
       "       [ 5.32548512e+13],\n",
       "       [ 5.09227681e+13],\n",
       "       [ 5.69225948e+13],\n",
       "       [-8.47047621e+13],\n",
       "       [-4.82440343e+13],\n",
       "       [-2.54793021e+13],\n",
       "       [ 1.02143165e+14],\n",
       "       [ 1.06302244e+14],\n",
       "       [ 1.05810908e+14],\n",
       "       [-1.21034530e+14],\n",
       "       [-2.65465550e+13],\n",
       "       [-3.27097512e+13],\n",
       "       [ 1.05961066e+13],\n",
       "       [ 6.92836296e+12],\n",
       "       [ 4.59627988e+12],\n",
       "       [ 1.19054705e+14],\n",
       "       [ 1.18563370e+14],\n",
       "       [ 1.14895626e+14],\n",
       "       [ 1.10874420e+13],\n",
       "       [ 5.38864873e+12],\n",
       "       [ 1.22956974e+12],\n",
       "       [-1.10251334e+12],\n",
       "       [-1.23149577e+14],\n",
       "       [-1.16658415e+14],\n",
       "       [-1.17149750e+14],\n",
       "       [ 5.32548512e+13],\n",
       "       [ 5.69225948e+13],\n",
       "       [ 5.74139302e+13],\n",
       "       [ 5.09227681e+13],\n",
       "       [-8.47047621e+13],\n",
       "       [-4.82440343e+13],\n",
       "       [-2.54793021e+13],\n",
       "       [ 1.05810908e+14],\n",
       "       [ 1.02143165e+14],\n",
       "       [ 1.06302244e+14],\n",
       "       [-1.21034530e+14],\n",
       "       [-3.92009133e+13],\n",
       "       [-3.27097512e+13],\n",
       "       [ 6.92836296e+12],\n",
       "       [ 1.05961066e+13],\n",
       "       [ 1.19054705e+14],\n",
       "       [ 1.14895626e+14],\n",
       "       [ 4.59627988e+12],\n",
       "       [ 1.10874420e+13],\n",
       "       [ 5.38864873e+12],\n",
       "       [ 4.89731340e+12],\n",
       "       [ 1.22956974e+12],\n",
       "       [-1.10251334e+12],\n",
       "       [-1.23149577e+14],\n",
       "       [-1.16658415e+14],\n",
       "       [-1.17149750e+14],\n",
       "       [ 5.69225948e+13],\n",
       "       [ 5.32548512e+13],\n",
       "       [ 5.09227681e+13],\n",
       "       [ 5.74139302e+13],\n",
       "       [-8.47047621e+13],\n",
       "       [-4.82440343e+13],\n",
       "       [-2.54793021e+13],\n",
       "       [ 1.02143165e+14],\n",
       "       [ 1.06302244e+14],\n",
       "       [ 1.05810908e+14],\n",
       "       [-1.21034530e+14],\n",
       "       [-3.27097512e+13],\n",
       "       [ 1.10874420e+13],\n",
       "       [ 1.14895626e+14],\n",
       "       [ 1.19054705e+14],\n",
       "       [ 6.92836296e+12],\n",
       "       [-1.10251334e+12],\n",
       "       [ 4.89731340e+12],\n",
       "       [ 1.22956974e+12],\n",
       "       [ 5.38864873e+12],\n",
       "       [-1.17149750e+14],\n",
       "       [-1.23149577e+14],\n",
       "       [-1.16658415e+14],\n",
       "       [ 5.09227681e+13],\n",
       "       [ 5.69225948e+13],\n",
       "       [ 5.32548512e+13],\n",
       "       [ 5.74139302e+13],\n",
       "       [-8.47047621e+13],\n",
       "       [-4.82440343e+13],\n",
       "       [-2.54793021e+13],\n",
       "       [ 1.05810908e+14],\n",
       "       [ 1.06302244e+14],\n",
       "       [ 1.02143165e+14],\n",
       "       [-1.21034530e+14],\n",
       "       [-3.27097512e+13],\n",
       "       [ 1.05961066e+13],\n",
       "       [ 1.10874420e+13],\n",
       "       [ 1.14895626e+14],\n",
       "       [ 6.92836296e+12],\n",
       "       [ 1.19054705e+14],\n",
       "       [-1.10251334e+12],\n",
       "       [ 1.22956974e+12],\n",
       "       [ 5.38864873e+12],\n",
       "       [ 4.89731340e+12],\n",
       "       [-1.17149750e+14],\n",
       "       [-1.16658415e+14],\n",
       "       [-1.23149577e+14],\n",
       "       [ 5.09227681e+13],\n",
       "       [ 5.74139302e+13],\n",
       "       [ 5.69225948e+13],\n",
       "       [ 5.32548512e+13],\n",
       "       [-8.47047621e+13],\n",
       "       [-4.82440343e+13],\n",
       "       [-2.54793021e+13],\n",
       "       [ 1.06302244e+14],\n",
       "       [ 1.02143165e+14],\n",
       "       [ 1.05810908e+14],\n",
       "       [-1.21034530e+14],\n",
       "       [-3.27097512e+13],\n",
       "       [ 1.10874420e+13],\n",
       "       [ 1.05961066e+13],\n",
       "       [ 1.14895626e+14],\n",
       "       [ 1.19054705e+14],\n",
       "       [ 6.92836296e+12],\n",
       "       [ 4.89731340e+12],\n",
       "       [ 1.22956974e+12],\n",
       "       [-1.10251334e+12],\n",
       "       [ 5.38864873e+12],\n",
       "       [-1.17149750e+14],\n",
       "       [-1.23149577e+14],\n",
       "       [-1.16658415e+14],\n",
       "       [ 5.74139302e+13],\n",
       "       [ 5.69225948e+13],\n",
       "       [ 5.32548512e+13],\n",
       "       [ 5.09227681e+13],\n",
       "       [-8.47047621e+13],\n",
       "       [-4.82440343e+13],\n",
       "       [-2.54793021e+13],\n",
       "       [ 1.06302244e+14],\n",
       "       [ 1.02143165e+14],\n",
       "       [ 1.05810908e+14],\n",
       "       [-1.21034530e+14],\n",
       "       [-3.27097512e+13],\n",
       "       [ 1.10874420e+13],\n",
       "       [ 1.18563370e+14],\n",
       "       [ 1.19054705e+14],\n",
       "       [ 6.92836296e+12],\n",
       "       [ 1.14895626e+14],\n",
       "       [ 1.05961066e+13],\n",
       "       [ 4.89731340e+12],\n",
       "       [ 5.38864873e+12],\n",
       "       [-1.10251334e+12],\n",
       "       [ 1.22956974e+12],\n",
       "       [-1.16658415e+14],\n",
       "       [-1.17149750e+14],\n",
       "       [-1.23149577e+14],\n",
       "       [ 5.09227681e+13],\n",
       "       [ 5.32548512e+13],\n",
       "       [ 5.74139302e+13],\n",
       "       [ 5.69225948e+13],\n",
       "       [-8.47047621e+13],\n",
       "       [-4.82440343e+13],\n",
       "       [-2.54793021e+13],\n",
       "       [ 1.05810908e+14],\n",
       "       [ 1.02143165e+14],\n",
       "       [ 1.06302244e+14],\n",
       "       [-1.21034530e+14],\n",
       "       [-3.27097512e+13],\n",
       "       [ 4.59627988e+12],\n",
       "       [ 1.19054705e+14],\n",
       "       [ 1.14895626e+14],\n",
       "       [ 1.10874420e+13],\n",
       "       [ 6.92836296e+12],\n",
       "       [-1.10251334e+12],\n",
       "       [ 5.38864873e+12],\n",
       "       [ 1.22956974e+12],\n",
       "       [ 4.89731340e+12],\n",
       "       [-1.16658415e+14],\n",
       "       [-1.23149577e+14],\n",
       "       [-1.17149750e+14],\n",
       "       [ 5.09227681e+13],\n",
       "       [ 5.69225948e+13],\n",
       "       [ 5.74139302e+13],\n",
       "       [ 5.32548512e+13],\n",
       "       [-8.47047621e+13],\n",
       "       [-4.82440343e+13],\n",
       "       [-2.54793021e+13],\n",
       "       [ 1.02143165e+14],\n",
       "       [ 1.05810908e+14],\n",
       "       [ 1.06302244e+14],\n",
       "       [-1.21034530e+14],\n",
       "       [-3.27097512e+13],\n",
       "       [-3.92009133e+13],\n",
       "       [ 1.12563543e+14],\n",
       "       [ 1.14895626e+14],\n",
       "       [ 1.19054705e+14],\n",
       "       [ 6.92836296e+12],\n",
       "       [ 1.10874420e+13]])"
      ]
     },
     "execution_count": 50,
     "metadata": {},
     "output_type": "execute_result"
    }
   ],
   "source": [
    "predictions"
   ]
  },
  {
   "cell_type": "code",
   "execution_count": 51,
   "id": "fb503c9f",
   "metadata": {},
   "outputs": [],
   "source": [
    "res = pd.DataFrame(predictions)\n",
    "res.index = tdf.index \n",
    "res.columns = [\"revenue\"]\n",
    "res.to_csv(\"prediction_result_lr.csv\", index = False)   "
   ]
  },
  {
   "cell_type": "code",
   "execution_count": null,
   "id": "87b594ee",
   "metadata": {},
   "outputs": [],
   "source": []
  },
  {
   "cell_type": "code",
   "execution_count": 52,
   "id": "248a7c2f",
   "metadata": {},
   "outputs": [
    {
     "data": {
      "text/plain": [
       "0.9402499036390224"
      ]
     },
     "execution_count": 52,
     "metadata": {},
     "output_type": "execute_result"
    }
   ],
   "source": [
    "reg.score(X_test_scaled, y_test)"
   ]
  },
  {
   "cell_type": "code",
   "execution_count": 53,
   "id": "c9c9c0c8",
   "metadata": {},
   "outputs": [
    {
     "name": "stdout",
     "output_type": "stream",
     "text": [
      "mean: 0.7533993011344591, std Deviation: 0.12731186053815235\n"
     ]
    }
   ],
   "source": [
    "scores = cross_val_score(reg1, X_scaled, y, cv=11)\n",
    "print(f'mean: {scores.mean()}, std Deviation: {scores.std()}')"
   ]
  },
  {
   "cell_type": "code",
   "execution_count": 54,
   "id": "1d6e2eb3",
   "metadata": {},
   "outputs": [
    {
     "name": "stdout",
     "output_type": "stream",
     "text": [
      "mean: 0.9202702510743879, std Deviation: 0.044009835547205514\n"
     ]
    }
   ],
   "source": [
    "from sklearn import model_selection\n",
    "from sklearn.model_selection import KFold\n",
    "k_fold_validation = model_selection.KFold(n_splits=11, random_state=45,shuffle=True)\n",
    "results = model_selection.cross_val_score(reg, X, y, cv=k_fold_validation)\n",
    "print(f'mean: {results.mean()}, std Deviation: {results.std()}')"
   ]
  },
  {
   "cell_type": "code",
   "execution_count": null,
   "id": "c2cebb3b",
   "metadata": {},
   "outputs": [],
   "source": []
  },
  {
   "cell_type": "code",
   "execution_count": 55,
   "id": "c6f2c9b9",
   "metadata": {},
   "outputs": [
    {
     "name": "stdout",
     "output_type": "stream",
     "text": [
      "Linear Regression Training R2 score is 0.950888766037271\n",
      "Linear Regression Testing R2 score is 0.9402499036390224\n",
      "--------------------------------------------------\n",
      "Linear Regression Training mean_square_error is 59574.49085288462\n",
      "Linear Regression Testing mean_square_error is 66056.62620025926\n",
      "--------------------------------------------------\n",
      "Linear Regression Training mean_absolute_error is 102.29255084616047\n",
      "Linear Regression Testing mean_absolute_error is 113.9814121364446\n"
     ]
    }
   ],
   "source": [
    "print(\"Linear Regression Training R2 score is\",r2_score(y_train,reg.predict(X_train_scaled)))\n",
    "print(\"Linear Regression Testing R2 score is\",r2_score(y_test,reg.predict(X_test_scaled)))\n",
    "print(\"-\"*50)\n",
    "print(\"Linear Regression Training mean_square_error is\",mean_squared_error(y_train,reg.predict(X_train_scaled)))\n",
    "print(\"Linear Regression Testing mean_square_error is\",mean_squared_error(y_test,reg.predict(X_test_scaled)))\n",
    "print(\"-\"*50)\n",
    "print(\"Linear Regression Training mean_absolute_error is\",mean_absolute_error(y_train,reg.predict(X_train_scaled)))\n",
    "print(\"Linear Regression Testing mean_absolute_error is\",mean_absolute_error(y_test,reg.predict(X_test_scaled)))"
   ]
  },
  {
   "cell_type": "code",
   "execution_count": 58,
   "id": "4317d58d",
   "metadata": {},
   "outputs": [
    {
     "data": {
      "text/plain": [
       "Lasso()"
      ]
     },
     "execution_count": 58,
     "metadata": {},
     "output_type": "execute_result"
    }
   ],
   "source": [
    "lasso_model = Lasso()\n",
    "\n",
    "lasso_model.fit(X_train_scaled,y_train)"
   ]
  },
  {
   "cell_type": "code",
   "execution_count": 59,
   "id": "d0cc4366",
   "metadata": {},
   "outputs": [
    {
     "name": "stdout",
     "output_type": "stream",
     "text": [
      "Lasso Model Training R2 score is 0.9506251143495144\n",
      "Lasso Model Testing R2 score is 0.9407996669231458\n",
      "--------------------------------------------------\n",
      "Lasso Model Training mean_square_error is 59894.31411516556\n",
      "Lasso Model Testing mean_square_error is 65448.83625564445\n",
      "--------------------------------------------------\n",
      "Lasso Model Training mean_absolute_error is 101.98487302535916\n",
      "Lasso Model Testing mean_absolute_error is 112.64232259610972\n"
     ]
    }
   ],
   "source": [
    "## R2 score\n",
    "print(\"Lasso Model Training R2 score is\",r2_score(y_train,lasso_model.predict(X_train_scaled)))\n",
    "print(\"Lasso Model Testing R2 score is\",r2_score(y_test,lasso_model.predict(X_test_scaled)))\n",
    "print(\"-\"*50)\n",
    "\n",
    "## Mean Square Error (MSE)\n",
    "print(\"Lasso Model Training mean_square_error is\",mean_squared_error(y_train,lasso_model.predict(X_train_scaled)))\n",
    "print(\"Lasso Model Testing mean_square_error is\",mean_squared_error(y_test,lasso_model.predict(X_test_scaled)))\n",
    "print(\"-\"*50)\n",
    "\n",
    "## Mean Absolute Error (MAE)\n",
    "print(\"Lasso Model Training mean_absolute_error is\",mean_absolute_error(y_train,lasso_model.predict(X_train_scaled)))\n",
    "print(\"Lasso Model Testing mean_absolute_error is\",mean_absolute_error(y_test,lasso_model.predict(X_test_scaled)))\n",
    "\n",
    "## ================================ ##"
   ]
  },
  {
   "cell_type": "code",
   "execution_count": 84,
   "id": "e341086c",
   "metadata": {},
   "outputs": [
    {
     "data": {
      "text/plain": [
       "0.949599473748763"
      ]
     },
     "execution_count": 84,
     "metadata": {},
     "output_type": "execute_result"
    }
   ],
   "source": [
    "lasso_model = Lasso()\n",
    "lasso_model.fit(X_scaled,y)\n",
    "predictions=lasso_model.predict(tdf_scaled)\n",
    "lasso_model.score(X_scaled,y)"
   ]
  },
  {
   "cell_type": "code",
   "execution_count": 85,
   "id": "078a6281",
   "metadata": {},
   "outputs": [],
   "source": [
    "predictions[predictions<0] = 0.000000000"
   ]
  },
  {
   "cell_type": "code",
   "execution_count": 86,
   "id": "824ac943",
   "metadata": {},
   "outputs": [],
   "source": [
    "res = pd.DataFrame(predictions)\n",
    "res.index = tdf.index \n",
    "res.columns = [\"revenue\"]\n",
    "res.to_csv(\"prediction_result_lassox.csv\", index = False)"
   ]
  },
  {
   "cell_type": "code",
   "execution_count": null,
   "id": "9fe38601",
   "metadata": {},
   "outputs": [],
   "source": []
  },
  {
   "cell_type": "code",
   "execution_count": 82,
   "id": "1c22cb87",
   "metadata": {},
   "outputs": [
    {
     "data": {
      "text/plain": [
       "Ridge(alpha=0.0001)"
      ]
     },
     "execution_count": 82,
     "metadata": {},
     "output_type": "execute_result"
    }
   ],
   "source": [
    "ridge = Ridge(alpha=0.0001)\n",
    "\n",
    "ridge.fit(X_train_scaled, y_train)"
   ]
  },
  {
   "cell_type": "code",
   "execution_count": 83,
   "id": "01f81fe1",
   "metadata": {},
   "outputs": [
    {
     "name": "stdout",
     "output_type": "stream",
     "text": [
      "Ridge Model Training R2 score is 0.9508896225781965\n",
      "Ridge Model Testing R2 score is 0.9402175265753782\n",
      "--------------------------------------------------\n",
      "Ridge Model Training mean_square_error is 59573.451824022675\n",
      "Ridge Model Testing mean_square_error is 66092.42061266796\n",
      "--------------------------------------------------\n",
      "Ridge Model Training mean_absolute_error is 102.31136367783841\n",
      "Ridge Model Testing mean_absolute_error is 114.03457496794663\n"
     ]
    }
   ],
   "source": [
    "print(\"Ridge Model Training R2 score is\",r2_score(y_train,ridge.predict(X_train_scaled)))\n",
    "print(\"Ridge Model Testing R2 score is\",r2_score(y_test,ridge.predict(X_test_scaled)))\n",
    "print(\"-\"*50)\n",
    "\n",
    "## Mean Square Error (MSE)\n",
    "print(\"Ridge Model Training mean_square_error is\",mean_squared_error(y_train,ridge.predict(X_train_scaled)))\n",
    "print(\"Ridge Model Testing mean_square_error is\",mean_squared_error(y_test,ridge.predict(X_test_scaled)))\n",
    "print(\"-\"*50)\n",
    "\n",
    "## Mean Absolute Error (MAE)\n",
    "print(\"Ridge Model Training mean_absolute_error is\",mean_absolute_error(y_train,ridge.predict(X_train_scaled)))\n",
    "print(\"Ridge Model Testing mean_absolute_error is\",mean_absolute_error(y_test,ridge.predict(X_test_scaled)))\n",
    "\n",
    "## ================================ ##"
   ]
  },
  {
   "cell_type": "code",
   "execution_count": null,
   "id": "5ff1fafe",
   "metadata": {},
   "outputs": [],
   "source": []
  },
  {
   "cell_type": "code",
   "execution_count": null,
   "id": "9906fbe8",
   "metadata": {},
   "outputs": [],
   "source": []
  },
  {
   "cell_type": "code",
   "execution_count": null,
   "id": "54284964",
   "metadata": {},
   "outputs": [],
   "source": []
  },
  {
   "cell_type": "code",
   "execution_count": 81,
   "id": "4cfe085d",
   "metadata": {},
   "outputs": [
    {
     "data": {
      "text/plain": [
       "0.9498520050405993"
      ]
     },
     "execution_count": 81,
     "metadata": {},
     "output_type": "execute_result"
    }
   ],
   "source": [
    "ridge = Ridge(alpha=0.0001)\n",
    "ridge.fit(X_scaled,y)\n",
    "predictions=ridge.predict(tdf_scaled)\n",
    "ridge.score(X_scaled,y)"
   ]
  },
  {
   "cell_type": "code",
   "execution_count": 76,
   "id": "85451e19",
   "metadata": {},
   "outputs": [],
   "source": [
    "predictions[predictions<0] = 0.000000000"
   ]
  },
  {
   "cell_type": "code",
   "execution_count": 78,
   "id": "d0102b18",
   "metadata": {},
   "outputs": [],
   "source": [
    "res = pd.DataFrame(predictions)\n",
    "res.index = tdf.index \n",
    "res.columns = [\"revenue\"]\n",
    "res.to_csv(\"prediction_result_ridgex.csv\", index = False)"
   ]
  },
  {
   "cell_type": "code",
   "execution_count": 68,
   "id": "074273fd",
   "metadata": {},
   "outputs": [
    {
     "data": {
      "text/plain": [
       "RidgeCV(alphas=array([ 0.1,  1. , 10. ]))"
      ]
     },
     "execution_count": 68,
     "metadata": {},
     "output_type": "execute_result"
    }
   ],
   "source": [
    "ridge_cv = RidgeCV()\n",
    "\n",
    "ridge_cv.fit(X_train_scaled, y_train)"
   ]
  },
  {
   "cell_type": "code",
   "execution_count": 69,
   "id": "2085bf93",
   "metadata": {},
   "outputs": [
    {
     "name": "stdout",
     "output_type": "stream",
     "text": [
      "Ridge Model CV Training R2 score on scaled data is 0.9508171270286626\n",
      "Ridge Model CV Testing R2 score on scaled data is 0.9400689618115385\n",
      "--------------------------------------------------\n",
      "Ridge Model CV Training mean_square_error on scaled data is 59661.39271053879\n",
      "Ridge Model CV Testing mean_square_error on scaled data is 66256.66615651095\n",
      "--------------------------------------------------\n",
      "Ridge Model CV Training mean_absolute_error on scaled data is 103.0682700061462\n",
      "Ridge Model CV Testing mean_absolute_error on scaled data is 114.77815338962218\n"
     ]
    }
   ],
   "source": [
    "print(\"Ridge Model CV Training R2 score on scaled data is\",r2_score(y_train,ridge_cv.predict(X_train_scaled)))\n",
    "print(\"Ridge Model CV Testing R2 score on scaled data is\",r2_score(y_test,ridge_cv.predict(X_test_scaled)))\n",
    "print(\"-\"*50)\n",
    "\n",
    "## Mean Square Error (MSE)\n",
    "print(\"Ridge Model CV Training mean_square_error on scaled data is\",mean_squared_error(y_train,ridge_cv.predict(X_train_scaled)))\n",
    "print(\"Ridge Model CV Testing mean_square_error on scaled data is\",mean_squared_error(y_test,ridge_cv.predict(X_test_scaled)))\n",
    "print(\"-\"*50)\n",
    "\n",
    "## Mean Absolute Error (MAE)\n",
    "print(\"Ridge Model CV Training mean_absolute_error on scaled data is\",mean_absolute_error(y_train,ridge_cv.predict(X_train_scaled)))\n",
    "print(\"Ridge Model CV Testing mean_absolute_error on scaled data is\",mean_absolute_error(y_test,ridge_cv.predict(X_test_scaled)))\n"
   ]
  },
  {
   "cell_type": "code",
   "execution_count": 70,
   "id": "cee7bace",
   "metadata": {},
   "outputs": [
    {
     "data": {
      "text/plain": [
       "0.9498043201015391"
      ]
     },
     "execution_count": 70,
     "metadata": {},
     "output_type": "execute_result"
    }
   ],
   "source": [
    "ridge_cv = RidgeCV()\n",
    "ridge_cv.fit(X_scaled,y)\n",
    "predictions=ridge_cv.predict(tdf_scaled)\n",
    "ridge_cv.score(X_scaled,y)"
   ]
  },
  {
   "cell_type": "code",
   "execution_count": 71,
   "id": "fb193f1a",
   "metadata": {},
   "outputs": [],
   "source": [
    "res = pd.DataFrame(predictions)\n",
    "res.index = tdf.index \n",
    "res.columns = [\"revenue\"]\n",
    "res.to_csv(\"prediction_result_ridge_cv.csv\", index = False)"
   ]
  },
  {
   "cell_type": "code",
   "execution_count": null,
   "id": "2f0f1554",
   "metadata": {},
   "outputs": [],
   "source": []
  },
  {
   "cell_type": "code",
   "execution_count": 72,
   "id": "5e24bb16",
   "metadata": {},
   "outputs": [],
   "source": [
    "from sklearn.svm import SVR\n",
    "from numpy import mean\n",
    "from numpy import std\n",
    "from numpy import absolute\n",
    "from pandas import read_csv\n",
    "from sklearn.model_selection import cross_val_score\n",
    "from sklearn.model_selection import KFold\n",
    "from sklearn.compose import ColumnTransformer\n",
    "from sklearn.pipeline import Pipeline"
   ]
  },
  {
   "cell_type": "code",
   "execution_count": 103,
   "id": "069f5ba6",
   "metadata": {},
   "outputs": [
    {
     "data": {
      "text/plain": [
       "SVR(C=10000, gamma=5)"
      ]
     },
     "execution_count": 103,
     "metadata": {},
     "output_type": "execute_result"
    }
   ],
   "source": [
    "regsvm= SVR(C=10000, kernel='rbf', gamma=1)\n",
    "regsvm.fit(X_train_scaled, y_train)"
   ]
  },
  {
   "cell_type": "code",
   "execution_count": 104,
   "id": "6b23e0b0",
   "metadata": {},
   "outputs": [
    {
     "name": "stdout",
     "output_type": "stream",
     "text": [
      "SVM Model Training R2 score is 0.9023125803737425\n",
      "SVM Model Testing R2 score is 0.13618219990129166\n",
      "--------------------------------------------------\n",
      "SVM Model Training mean_square_error is 118499.9401844187\n",
      "SVM Model Testing mean_square_error is 954992.4268158451\n",
      "--------------------------------------------------\n",
      "SVM Model Training mean_absolute_error is 18.252490149529592\n",
      "SVM Model Testing mean_absolute_error is 209.39018573380346\n"
     ]
    }
   ],
   "source": [
    "print(\"SVM Model Training R2 score is\",r2_score(y_train,regsvm.predict(X_train_scaled)))\n",
    "print(\"SVM Model Testing R2 score is\",r2_score(y_test,regsvm.predict(X_test_scaled)))\n",
    "print(\"-\"*50)\n",
    "\n",
    "## Mean Square Error (MSE)\n",
    "print(\"SVM Model Training mean_square_error is\",mean_squared_error(y_train,regsvm.predict(X_train_scaled)))\n",
    "print(\"SVM Model Testing mean_square_error is\",mean_squared_error(y_test,regsvm.predict(X_test_scaled)))\n",
    "print(\"-\"*50)\n",
    "\n",
    "## Mean Absolute Error (MAE)\n",
    "print(\"SVM Model Training mean_absolute_error is\",mean_absolute_error(y_train,regsvm.predict(X_train_scaled)))\n",
    "print(\"SVM Model Testing mean_absolute_error is\",mean_absolute_error(y_test,regsvm.predict(X_test_scaled)))\n"
   ]
  },
  {
   "cell_type": "code",
   "execution_count": 145,
   "id": "6e6c241c",
   "metadata": {},
   "outputs": [
    {
     "data": {
      "text/plain": [
       "0.7572580312941044"
      ]
     },
     "execution_count": 145,
     "metadata": {},
     "output_type": "execute_result"
    }
   ],
   "source": [
    "regsvm1= SVR(C=3000)\n",
    "regsvm1.fit(X_scaled,y)\n",
    "predictions=regsvm1.predict(tdf_scaled)\n",
    "regsvm1.score(X_scaled,y)"
   ]
  },
  {
   "cell_type": "code",
   "execution_count": 146,
   "id": "2d9bef8a",
   "metadata": {},
   "outputs": [],
   "source": [
    "predictions[predictions<0] = 0.000000000"
   ]
  },
  {
   "cell_type": "code",
   "execution_count": 147,
   "id": "e1e8685d",
   "metadata": {},
   "outputs": [],
   "source": [
    "res = pd.DataFrame(predictions)\n",
    "res.index = tdf.index \n",
    "res.columns = [\"revenue\"]\n",
    "res.to_csv(\"prediction_result_SVM.csv\", index = False)"
   ]
  },
  {
   "cell_type": "code",
   "execution_count": null,
   "id": "9f34df58",
   "metadata": {},
   "outputs": [],
   "source": []
  },
  {
   "cell_type": "code",
   "execution_count": 196,
   "id": "8e022a37",
   "metadata": {},
   "outputs": [],
   "source": [
    "from xgboost import XGBRegressor"
   ]
  },
  {
   "cell_type": "code",
   "execution_count": 112,
   "id": "5de4f898",
   "metadata": {},
   "outputs": [
    {
     "data": {
      "text/plain": [
       "XGBRegressor(base_score=0.5, booster='gbtree', colsample_bylevel=1,\n",
       "             colsample_bynode=1, colsample_bytree=1, gamma=0, gpu_id=-1,\n",
       "             importance_type='gain', interaction_constraints='',\n",
       "             learning_rate=0.300000012, max_delta_step=0, max_depth=6,\n",
       "             min_child_weight=1, missing=nan, monotone_constraints='()',\n",
       "             n_estimators=100, n_jobs=4, num_parallel_tree=1, random_state=0,\n",
       "             reg_alpha=0, reg_lambda=1, scale_pos_weight=1, subsample=1,\n",
       "             tree_method='exact', validate_parameters=1, verbosity=None)"
      ]
     },
     "execution_count": 112,
     "metadata": {},
     "output_type": "execute_result"
    }
   ],
   "source": [
    "xgbr = XGBRegressor()\n",
    "xgbr.fit(X_train_scaled, y_train)\n",
    "\n"
   ]
  },
  {
   "cell_type": "code",
   "execution_count": 113,
   "id": "727cb110",
   "metadata": {},
   "outputs": [
    {
     "name": "stdout",
     "output_type": "stream",
     "text": [
      "XGB Model Training R2 score is 0.9988772999148516\n",
      "XGB Model Testing R2 score is 0.9498688309215058\n",
      "--------------------------------------------------\n"
     ]
    }
   ],
   "source": [
    "print(\"XGB Model Training R2 score is\",r2_score(y_train,xgbr.predict(X_train_scaled)))\n",
    "print(\"XGB Model Testing R2 score is\",r2_score(y_test,xgbr.predict(X_test_scaled)))\n",
    "print(\"-\"*50)"
   ]
  },
  {
   "cell_type": "code",
   "execution_count": 197,
   "id": "17614e73",
   "metadata": {},
   "outputs": [
    {
     "data": {
      "text/plain": [
       "0.9999999913616937"
      ]
     },
     "execution_count": 197,
     "metadata": {},
     "output_type": "execute_result"
    }
   ],
   "source": [
    "xgbr1 = XGBRegressor(\n",
    "                  n_estimators = 10000, seed = 123,learning_rate=0.05)\n",
    "xgbr1.fit(X_scaled,y)\n",
    "predictions=xgbr1.predict(tdf_scaled)\n",
    "xgbr1.score(X_scaled,y)"
   ]
  },
  {
   "cell_type": "code",
   "execution_count": 198,
   "id": "7d183961",
   "metadata": {},
   "outputs": [],
   "source": [
    "predictions[predictions<0] = 0.000000000"
   ]
  },
  {
   "cell_type": "code",
   "execution_count": 199,
   "id": "30c84156",
   "metadata": {},
   "outputs": [],
   "source": [
    "res = pd.DataFrame(predictions)\n",
    "res.index = tdf.index \n",
    "res.columns = [\"revenue\"]\n",
    "res.to_csv(\"prediction_result_XGB1.csv\", index = False)"
   ]
  },
  {
   "cell_type": "code",
   "execution_count": null,
   "id": "a189eb31",
   "metadata": {},
   "outputs": [],
   "source": []
  },
  {
   "cell_type": "code",
   "execution_count": null,
   "id": "c1abc472",
   "metadata": {},
   "outputs": [],
   "source": [
    "col_transform = ColumnTransformer(transformers=)\n",
    "# define the model\n",
    "model = SVR(kernel='rbf',gamma='scale',C=100)\n",
    "# define the data preparation and modeling pipeline\n",
    "pipeline = Pipeline(steps=[('prep',col_transform), ('m', model)])\n",
    "# define the model cross-validation configuration\n",
    "cv = KFold(n_splits=10, shuffle=True, random_state=1)\n",
    "# evaluate the pipeline using cross validation and calculate MAE\n",
    "scores = cross_val_score(pipeline, X, y, scoring='neg_mean_absolute_error', cv=cv, n_jobs=-1)\n",
    "# convert MAE scores to positive values\n",
    "scores = absolute(scores)"
   ]
  },
  {
   "cell_type": "code",
   "execution_count": null,
   "id": "bdb4dec2",
   "metadata": {},
   "outputs": [],
   "source": [
    "from sklearn.pipeline import make_pipeline\n"
   ]
  },
  {
   "cell_type": "code",
   "execution_count": null,
   "id": "1dc394fa",
   "metadata": {},
   "outputs": [],
   "source": [
    "\n",
    "from sklearn.naive_bayes import GaussianNB\n",
    "from sklearn.linear_model import LogisticRegression\n",
    "from sklearn.neighbors import KNeighborsClassifier\n",
    "from sklearn.tree import DecisionTreeClassifier\n",
    "from sklearn.ensemble import RandomForestClassifier\n",
    "from xgboost import XGBClassifier, XGBRFClassifier\n",
    "from xgboost import plot_tree, plot_importance\n",
    "from sklearn.ensemble import AdaBoostClassifier\n",
    "\n",
    "from sklearn.metrics import confusion_matrix, accuracy_score, roc_auc_score, roc_curve\n",
    "from sklearn import preprocessing\n",
    "from sklearn.model_selection import train_test_split\n",
    "from sklearn.feature_selection import RFE"
   ]
  },
  {
   "cell_type": "code",
   "execution_count": null,
   "id": "9c8b24ab",
   "metadata": {},
   "outputs": [],
   "source": []
  },
  {
   "cell_type": "code",
   "execution_count": null,
   "id": "aec9015b",
   "metadata": {},
   "outputs": [],
   "source": [
    "outcome = []\n",
    "model_names = []\n",
    "models = [('LogReg', LogisticRegression()), \n",
    "          ('SVM', SVC()), \n",
    "          ('DecTree', DecisionTreeClassifier()),\n",
    "          ('KNN', KNeighborsClassifier()),\n",
    "          ('LinDisc', LinearDiscriminantAnalysis()),\n",
    "          ('GaussianNB', GaussianNB())]"
   ]
  },
  {
   "cell_type": "code",
   "execution_count": null,
   "id": "758e1848",
   "metadata": {},
   "outputs": [],
   "source": [
    "for model_name, model in models:\n",
    "    k_fold_validation = model_selection.KFold(n_splits=10, random_state=random_seed)\n",
    "    results = model_selection.cross_val_score(model, X, Y, cv=k_fold_validation, scoring='accuracy')\n",
    "    outcome.append(results)\n",
    "    model_names.append(model_name)\n",
    "    output_message = \"%s| Mean=%f STD=%f\" % (model_name, results.mean(), results.std())\n",
    "    print(output_message)"
   ]
  },
  {
   "cell_type": "code",
   "execution_count": null,
   "id": "416b2db6",
   "metadata": {},
   "outputs": [],
   "source": [
    "fig = plt.figure()\n",
    "fig.suptitle('Machine Learning Model Comparison')\n",
    "ax = fig.add_subplot(111)\n",
    "plt.boxplot(outcome)\n",
    "ax.set_xticklabels(model_names)\n",
    "plt.show()"
   ]
  },
  {
   "cell_type": "code",
   "execution_count": null,
   "id": "539a1c8e",
   "metadata": {},
   "outputs": [],
   "source": [
    "'''from numpy import mean\n",
    "from numpy import std\n",
    "from numpy import absolute\n",
    "from pandas import read_csv\n",
    "from sklearn.model_selection import cross_val_score\n",
    "from sklearn.model_selection import KFold\n",
    "from sklearn.compose import ColumnTransformer\n",
    "from sklearn.pipeline import Pipeline\n",
    "from sklearn.preprocessing import OneHotEncoder\n",
    "from sklearn.preprocessing import MinMaxScaler\n",
    "from sklearn.svm import SVR\n",
    " \n",
    "# load dataset\n",
    "#url = 'https://raw.githubusercontent.com/jbrownlee/Datasets/master/abalone.csv'\n",
    "#dataframe = read_csv(url, header=None)\n",
    "print(df.head())\n",
    "# split into inputs and outputs\n",
    "#last_ix = len(df.columns) - 1\n",
    "X, y = df.drop(['revenue'], axis=1), df['revenue']\n",
    "print(X.shape, y.shape)\n",
    "# determine categorical and numerical features\n",
    "numerical_ix = X.select_dtypes(include=['int64', 'float64']).columns\n",
    "categorical_ix = X.select_dtypes(include=['object', 'bool']).columns\n",
    "# define the data preparation for the columns\n",
    "t = [('cat', OneHotEncoder(), categorical_ix), ('num', MinMaxScaler(), numerical_ix)]\n",
    "col_transform = ColumnTransformer(transformers=t)\n",
    "# define the model\n",
    "model = SVR(kernel='rbf',gamma='scale',C=100)\n",
    "# define the data preparation and modeling pipeline\n",
    "pipeline = Pipeline(steps=[('prep',col_transform), ('m', model)])\n",
    "# define the model cross-validation configuration\n",
    "cv = KFold(n_splits=10, shuffle=True, random_state=1)\n",
    "# evaluate the pipeline using cross validation and calculate MAE\n",
    "scores = cross_val_score(pipeline, X, y, scoring='neg_mean_absolute_error', cv=cv, n_jobs=-1)\n",
    "# convert MAE scores to positive values\n",
    "scores = absolute(scores)\n",
    "print(scores)\n",
    "# summarize the model performance'''"
   ]
  },
  {
   "cell_type": "code",
   "execution_count": null,
   "id": "15f34b4c",
   "metadata": {},
   "outputs": [],
   "source": []
  }
 ],
 "metadata": {
  "kernelspec": {
   "display_name": "Python 3",
   "language": "python",
   "name": "python3"
  },
  "language_info": {
   "codemirror_mode": {
    "name": "ipython",
    "version": 3
   },
   "file_extension": ".py",
   "mimetype": "text/x-python",
   "name": "python",
   "nbconvert_exporter": "python",
   "pygments_lexer": "ipython3",
   "version": "3.8.8"
  }
 },
 "nbformat": 4,
 "nbformat_minor": 5
}
